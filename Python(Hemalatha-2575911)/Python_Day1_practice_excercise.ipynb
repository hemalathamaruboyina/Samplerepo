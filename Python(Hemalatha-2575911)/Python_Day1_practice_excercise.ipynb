{
  "nbformat": 4,
  "nbformat_minor": 0,
  "metadata": {
    "colab": {
      "provenance": [],
      "authorship_tag": "ABX9TyOnxtzyFP8w1WY00WbjBuh3",
      "include_colab_link": true
    },
    "kernelspec": {
      "name": "python3",
      "display_name": "Python 3"
    },
    "language_info": {
      "name": "python"
    }
  },
  "cells": [
    {
      "cell_type": "markdown",
      "metadata": {
        "id": "view-in-github",
        "colab_type": "text"
      },
      "source": [
        "<a href=\"https://colab.research.google.com/github/hemalathamaruboyina/Samplerepo/blob/main/HemaLatha-2575911/Python_Day1_practice_excercise.ipynb\" target=\"_parent\"><img src=\"https://colab.research.google.com/assets/colab-badge.svg\" alt=\"Open In Colab\"/></a>"
      ]
    },
    {
      "cell_type": "markdown",
      "source": [
        "# 1. Manipulating using a list.\n",
        "    i) To add new elements to the end of the list\n",
        "    ii) To reverse elements in the list\n",
        "    iii) To display the same list of elements multiple times.\n",
        "    iv) To concatenate two list\n",
        "    v) To sort the elements in the list in ascending order."
      ],
      "metadata": {
        "id": "GbSBUuVGi4lm"
      }
    },
    {
      "cell_type": "code",
      "source": [
        "# Creating a List first\n",
        "list = [\"Hema\", \"Latha\", \"Mphasis\", 2575911]\n",
        "print(\"original list is\",list)\n"
      ],
      "metadata": {
        "colab": {
          "base_uri": "https://localhost:8080/"
        },
        "id": "1NwhMdmal7lU",
        "outputId": "f29b4561-737b-4d31-f036-471ec58ae58f"
      },
      "execution_count": null,
      "outputs": [
        {
          "output_type": "stream",
          "name": "stdout",
          "text": [
            "original list is ['Hema', 'Latha', 'Mphasis', 2575911]\n"
          ]
        }
      ]
    },
    {
      "cell_type": "code",
      "source": [
        "# i) To add new elements to the end of the list\n",
        "list.append(\"Python\")\n",
        "print(\"After adding a new element list is\",list)"
      ],
      "metadata": {
        "colab": {
          "base_uri": "https://localhost:8080/"
        },
        "id": "J2Effw49quLU",
        "outputId": "440a89ac-124e-4852-841c-0c158c6bacda"
      },
      "execution_count": null,
      "outputs": [
        {
          "output_type": "stream",
          "name": "stdout",
          "text": [
            "After adding a new element list is ['Hema', 'Latha', 'Mphasis', 2575911, 'Python']\n"
          ]
        }
      ]
    },
    {
      "cell_type": "code",
      "source": [
        "#ii) To reverse elements in the list\n",
        "print(list[::-1])"
      ],
      "metadata": {
        "colab": {
          "base_uri": "https://localhost:8080/"
        },
        "id": "0PP4YsG7rL-U",
        "outputId": "eddc847b-7a25-45d9-d4f5-8989a4a7e218"
      },
      "execution_count": null,
      "outputs": [
        {
          "output_type": "stream",
          "name": "stdout",
          "text": [
            "['Python', 2575911, 'Mphasis', 'Latha', 'Hema']\n"
          ]
        }
      ]
    },
    {
      "cell_type": "code",
      "source": [
        "#iii) To display the same list of elements multiple times.\n",
        "n = int(input(\"Enter the number to repeat the list\"))\n",
        "for i in range (n):\n",
        "  print (list)"
      ],
      "metadata": {
        "colab": {
          "base_uri": "https://localhost:8080/"
        },
        "id": "kW-APzjOrs98",
        "outputId": "40db0cbf-10a5-4edc-a481-0819e506ad77"
      },
      "execution_count": null,
      "outputs": [
        {
          "output_type": "stream",
          "name": "stdout",
          "text": [
            "Enter the number to repeat the list5\n",
            "['Hema', 'Latha', 'Mphasis', 2575911, 'Python']\n",
            "['Hema', 'Latha', 'Mphasis', 2575911, 'Python']\n",
            "['Hema', 'Latha', 'Mphasis', 2575911, 'Python']\n",
            "['Hema', 'Latha', 'Mphasis', 2575911, 'Python']\n",
            "['Hema', 'Latha', 'Mphasis', 2575911, 'Python']\n"
          ]
        }
      ]
    },
    {
      "cell_type": "code",
      "source": [
        "#iv) To concatenate two list\n",
        "a = [1,2,3,4,5]\n",
        "b=[\"one\",\"two\",\"Three\",\"four\"]\n",
        "print(\"concatenation of two lists\",a+b)"
      ],
      "metadata": {
        "colab": {
          "base_uri": "https://localhost:8080/"
        },
        "id": "-H4II4SGuP2j",
        "outputId": "06a3b9b6-d553-4283-ab1f-55b6e22429b1"
      },
      "execution_count": null,
      "outputs": [
        {
          "output_type": "stream",
          "name": "stdout",
          "text": [
            "concatenation of two lists [1, 2, 3, 4, 5, 'one', 'two', 'Three', 'four']\n"
          ]
        }
      ]
    },
    {
      "cell_type": "code",
      "source": [
        "#v) To sort the elements in the list in ascending order.\n",
        "c = [2,5,1,7,4,6,3]\n",
        "c.sort()\n",
        "print(\"after sorting the list\",c)"
      ],
      "metadata": {
        "colab": {
          "base_uri": "https://localhost:8080/"
        },
        "id": "6vDXLo6Jw592",
        "outputId": "d049e962-f25e-49b7-fe3c-d53cc8319018"
      },
      "execution_count": null,
      "outputs": [
        {
          "output_type": "stream",
          "name": "stdout",
          "text": [
            "after sorting the list [1, 2, 3, 4, 5, 6, 7]\n"
          ]
        }
      ]
    },
    {
      "cell_type": "markdown",
      "source": [
        "# 2. Write a python program to do in the tuples.\n",
        "    i) Manipulate using tuples.\n",
        "    ii) To add new elements to the end of the tuples\n",
        "    iii) To reverse elements in the list\n",
        "    iv) To display the elements of the same tuple multiple times.\n",
        "    v) To concatenate two tuples\n",
        "    vi) To sort the elements in the listin ascending order."
      ],
      "metadata": {
        "id": "6X5XbXjPyHeg"
      }
    },
    {
      "cell_type": "markdown",
      "source": [],
      "metadata": {
        "id": "9wR-QKH8lRbA"
      }
    },
    {
      "cell_type": "code",
      "source": [
        "# Creating a tuple first\n",
        "tuple1 = (\"apple\",\"bat\",\"dog\",\"cat\")\n",
        "print(tuple1)"
      ],
      "metadata": {
        "colab": {
          "base_uri": "https://localhost:8080/"
        },
        "id": "3jwwrg-q1NvJ",
        "outputId": "83bf3c34-349d-4e51-be99-9ec753ba18d9"
      },
      "execution_count": null,
      "outputs": [
        {
          "output_type": "stream",
          "name": "stdout",
          "text": [
            "('apple', 'bat', 'dog', 'cat')\n"
          ]
        }
      ]
    },
    {
      "cell_type": "code",
      "source": [
        "#i) Manipulate using tuples.\n",
        "tuple1 = tuple1 + (\"fish\",\"fan\",)\n",
        "print(\"Adding new element to the tuple\",tuple1)"
      ],
      "metadata": {
        "colab": {
          "base_uri": "https://localhost:8080/"
        },
        "id": "mlv-Pmky2ka9",
        "outputId": "f7bf6379-c9d0-4daa-ba15-b07cc171160e"
      },
      "execution_count": null,
      "outputs": [
        {
          "output_type": "stream",
          "name": "stdout",
          "text": [
            "Adding new element to the tuple ('apple', 'bat', 'dog', 'cat', 'fish', 'fan')\n"
          ]
        }
      ]
    },
    {
      "cell_type": "code",
      "source": [
        "#ii) To add new elements to the end of the tuples\n",
        "tuple2 = (\"A\",\"B\",\"D\",\"C\")\n",
        "print(\"After adding new elements\",tuple1+tuple2)"
      ],
      "metadata": {
        "colab": {
          "base_uri": "https://localhost:8080/"
        },
        "id": "NljF4sGL5fED",
        "outputId": "8e648ebb-b35c-4c74-a4a6-0208bb3566f9"
      },
      "execution_count": null,
      "outputs": [
        {
          "output_type": "stream",
          "name": "stdout",
          "text": [
            "('apple', 'bat', 'dog', 'cat', 'fish', 'fan', 'A', 'B', 'D', 'C')\n"
          ]
        }
      ]
    },
    {
      "cell_type": "code",
      "source": [
        "#iii) To reverse elements in the list\n",
        "print(tuple1[::-1])"
      ],
      "metadata": {
        "colab": {
          "base_uri": "https://localhost:8080/"
        },
        "id": "Co2_gc3c6Ybq",
        "outputId": "e5b5d703-f227-44f7-cd64-b07e4850a94e"
      },
      "execution_count": null,
      "outputs": [
        {
          "output_type": "stream",
          "name": "stdout",
          "text": [
            "('fan', 'fish', 'cat', 'dog', 'bat', 'apple')\n"
          ]
        }
      ]
    },
    {
      "cell_type": "code",
      "source": [
        "#iv) To display the elements of the same tuple multiple times.\n",
        "n = int(input(\"Enter the number to repeat\"))\n",
        "for i in range(n):\n",
        "  print(tuple2)"
      ],
      "metadata": {
        "colab": {
          "base_uri": "https://localhost:8080/"
        },
        "id": "XV5M75wD8Ffw",
        "outputId": "d6e03d2d-ddab-4e44-84c4-d66af4ce9fe6"
      },
      "execution_count": null,
      "outputs": [
        {
          "output_type": "stream",
          "name": "stdout",
          "text": [
            "Enter the number to repeat6\n",
            "('A', 'B', 'D', 'C')\n",
            "('A', 'B', 'D', 'C')\n",
            "('A', 'B', 'D', 'C')\n",
            "('A', 'B', 'D', 'C')\n",
            "('A', 'B', 'D', 'C')\n",
            "('A', 'B', 'D', 'C')\n"
          ]
        }
      ]
    },
    {
      "cell_type": "code",
      "source": [
        "#v) To concatenate two tuples\n",
        "print(\"Concatenating two tuples \",tuple1+tuple2)"
      ],
      "metadata": {
        "colab": {
          "base_uri": "https://localhost:8080/"
        },
        "id": "ocx-ibHx_sPT",
        "outputId": "ca32085a-3bbe-44fd-b7f3-7b0baf7e1fb9"
      },
      "execution_count": null,
      "outputs": [
        {
          "output_type": "stream",
          "name": "stdout",
          "text": [
            "Concatenating two tuples  ('apple', 'bat', 'dog', 'cat', 'fish', 'fan', 'A', 'B', 'D', 'C')\n"
          ]
        }
      ]
    },
    {
      "cell_type": "code",
      "source": [
        "#vi) To sort the elements in the listin ascending order.\n",
        "empty_list = []\n",
        "for i in range(len(tuple1)):\n",
        "  empty_list.append(tuple1[i])\n",
        "  empty_list.sort()\n",
        "print(empty_list)"
      ],
      "metadata": {
        "colab": {
          "base_uri": "https://localhost:8080/"
        },
        "id": "CGbg9kQ3ALlD",
        "outputId": "eb3bc43d-1155-4383-d375-1a1130c30484"
      },
      "execution_count": null,
      "outputs": [
        {
          "output_type": "stream",
          "name": "stdout",
          "text": [
            "['apple', 'bat', 'cat', 'dog', 'fan', 'fish']\n"
          ]
        }
      ]
    },
    {
      "cell_type": "markdown",
      "source": [
        "# 3. Write a python program to implement the following using list\n",
        "    i) Create a list with integers (minimum 10 numbers)\n",
        "    ii) how to display the last number in the list\n",
        "    iii) command for displaying the values from the list[0:4]\n",
        "    iv) command for displaying the values from the list[2:]\n",
        "    v) command for displaying the values from the list[:6]"
      ],
      "metadata": {
        "id": "B7r3zc16D4nO"
      }
    },
    {
      "cell_type": "code",
      "source": [
        "#i) Create a list with integers (minimum 10 numbers)\n",
        "list1=[34,7,5,9,22,50,87,66,99,70]\n",
        "print(list1)"
      ],
      "metadata": {
        "colab": {
          "base_uri": "https://localhost:8080/"
        },
        "id": "uOjGmUpyFVa8",
        "outputId": "3ba0b736-6a18-4e2a-a4b0-731b389a2d68"
      },
      "execution_count": null,
      "outputs": [
        {
          "output_type": "stream",
          "name": "stdout",
          "text": [
            "[34, 7, 5, 9, 22, 50, 87, 66, 99, 70]\n"
          ]
        }
      ]
    },
    {
      "cell_type": "code",
      "source": [
        "#ii) how to display the last number in the list\n",
        "print(list1[-1])"
      ],
      "metadata": {
        "colab": {
          "base_uri": "https://localhost:8080/"
        },
        "id": "UbTmfwKENlkQ",
        "outputId": "db4acda9-44b9-41a8-d826-8bba4fa92b45"
      },
      "execution_count": null,
      "outputs": [
        {
          "output_type": "stream",
          "name": "stdout",
          "text": [
            "70\n"
          ]
        }
      ]
    },
    {
      "cell_type": "code",
      "source": [
        "#iii) command for displaying the values from the list[0:4]\n",
        "print(list1[0:4])"
      ],
      "metadata": {
        "colab": {
          "base_uri": "https://localhost:8080/"
        },
        "id": "UmBv1M30N1cG",
        "outputId": "fa18fa65-b0c6-47ae-c374-3810db33c936"
      },
      "execution_count": null,
      "outputs": [
        {
          "output_type": "stream",
          "name": "stdout",
          "text": [
            "[34, 7, 5, 9]\n"
          ]
        }
      ]
    },
    {
      "cell_type": "code",
      "source": [
        "#iv) command for displaying the values from the list[2:]\n",
        "print(list1[2:])"
      ],
      "metadata": {
        "colab": {
          "base_uri": "https://localhost:8080/"
        },
        "id": "gf9gIIJUOeR0",
        "outputId": "17ec8602-30b9-46fa-9f49-cbd2dc0d12b8"
      },
      "execution_count": null,
      "outputs": [
        {
          "output_type": "stream",
          "name": "stdout",
          "text": [
            "[5, 9, 22, 50, 87, 66, 99, 70]\n"
          ]
        }
      ]
    },
    {
      "cell_type": "code",
      "source": [
        "#v) command for displaying the values from the list[:6]\n",
        "print(list1[:6])"
      ],
      "metadata": {
        "colab": {
          "base_uri": "https://localhost:8080/"
        },
        "id": "NvEruwQLPTDS",
        "outputId": "b28f5abc-e69a-455a-cfc0-45355ddbe37e"
      },
      "execution_count": null,
      "outputs": [
        {
          "output_type": "stream",
          "name": "stdout",
          "text": [
            "[34, 7, 5, 9, 22, 50]\n"
          ]
        }
      ]
    },
    {
      "cell_type": "markdown",
      "source": [
        "# 4. Write a python program: tuple1 = (10,50,20,40,30)\n",
        "    i) To display the elements 10 and 50 from tuple1\n",
        "    ii) To display the length of tuple1.\n",
        "    iii)To find the minimum element from tuple1.\n",
        "    iv) To add all elements in the tuple1.\n",
        "    v) To display the same tuple1 multiple times.\n",
        "    "
      ],
      "metadata": {
        "id": "n6edei3ISRn8"
      }
    },
    {
      "cell_type": "code",
      "source": [
        "#i) To display the elements 10 and 50 from tuple1\n",
        "tuple1 = (10,50,20,40,30)\n",
        "print(tuple1[:2])"
      ],
      "metadata": {
        "colab": {
          "base_uri": "https://localhost:8080/"
        },
        "id": "n74iulyaZRCn",
        "outputId": "2b73b18b-1da0-43f3-e912-69e2c7a1cfcc"
      },
      "execution_count": null,
      "outputs": [
        {
          "output_type": "stream",
          "name": "stdout",
          "text": [
            "(10, 50)\n"
          ]
        }
      ]
    },
    {
      "cell_type": "code",
      "source": [
        "#ii) To display the length of tuple1.\n",
        "print(len(tuple1))"
      ],
      "metadata": {
        "colab": {
          "base_uri": "https://localhost:8080/"
        },
        "id": "khyiMxHXasEk",
        "outputId": "e95377ed-1d1e-4a3f-f289-0c3441cc99d6"
      },
      "execution_count": null,
      "outputs": [
        {
          "output_type": "stream",
          "name": "stdout",
          "text": [
            "5\n"
          ]
        }
      ]
    },
    {
      "cell_type": "code",
      "source": [
        "#iii)To find the minimum element from tuple1.\n",
        "print(min(tuple1))"
      ],
      "metadata": {
        "colab": {
          "base_uri": "https://localhost:8080/"
        },
        "id": "KcQgi53SbFNr",
        "outputId": "c14a699a-1d95-41f4-de11-068ff5ebade3"
      },
      "execution_count": null,
      "outputs": [
        {
          "output_type": "stream",
          "name": "stdout",
          "text": [
            "10\n"
          ]
        }
      ]
    },
    {
      "cell_type": "code",
      "source": [
        "#iv) To add all elements in the tuple1.\n",
        "sum1=0\n",
        "for i in range(len(tuple1)):\n",
        "  sum1 = sum1 + tuple1[i]\n",
        "print(sum1)"
      ],
      "metadata": {
        "colab": {
          "base_uri": "https://localhost:8080/"
        },
        "id": "8-2k0EVabV9T",
        "outputId": "fa4f882f-aea2-4101-dfb2-a04e2bd51312"
      },
      "execution_count": null,
      "outputs": [
        {
          "output_type": "stream",
          "name": "stdout",
          "text": [
            "150\n"
          ]
        }
      ]
    },
    {
      "cell_type": "code",
      "source": [
        "#v) To display the same tuple1 multiple times.\n",
        "n=int(input(\"Enter the number to repeat the tuple\"))\n",
        "for i in range(n):\n",
        "  print(tuple1)"
      ],
      "metadata": {
        "colab": {
          "base_uri": "https://localhost:8080/"
        },
        "id": "xEa5vaZ7f021",
        "outputId": "69978e1b-50b8-4566-9b77-364bd883facb"
      },
      "execution_count": null,
      "outputs": [
        {
          "output_type": "stream",
          "name": "stdout",
          "text": [
            "Enter the number to repeat the tuple5\n",
            "(10, 50, 20, 40, 30)\n",
            "(10, 50, 20, 40, 30)\n",
            "(10, 50, 20, 40, 30)\n",
            "(10, 50, 20, 40, 30)\n",
            "(10, 50, 20, 40, 30)\n"
          ]
        }
      ]
    },
    {
      "cell_type": "markdown",
      "source": [
        "# 5. Write a python program:\n",
        "    i) To calculate the length of a string\n",
        "    ii) To reverse words in a string\n",
        "    iii) To display the same string multiple times\n",
        "    iv) To concatenate two strings\n",
        "    v) Str1=\"South india\" using string slicing to display \"india\".\n",
        "\n",
        "\n"
      ],
      "metadata": {
        "id": "oBIeBrf7yW1d"
      }
    },
    {
      "cell_type": "code",
      "source": [
        "#i) To calculate the length of a string\n",
        "str1=\"Hema latha\"\n",
        "print(len(str1))"
      ],
      "metadata": {
        "colab": {
          "base_uri": "https://localhost:8080/"
        },
        "id": "g0vALEfs9X9N",
        "outputId": "72e72fb8-1727-4bf0-aeaa-b8835c61ac5e"
      },
      "execution_count": null,
      "outputs": [
        {
          "output_type": "stream",
          "name": "stdout",
          "text": [
            "10\n"
          ]
        }
      ]
    },
    {
      "cell_type": "code",
      "source": [
        "#ii) To reverse words in a string\n",
        "str2=\"To reverse words in a string\"\n",
        "split_str=str2.split()\n",
        "rev_words=split_str[::-1]\n",
        "print(rev_words)"
      ],
      "metadata": {
        "colab": {
          "base_uri": "https://localhost:8080/"
        },
        "id": "-qrBnXId9qnq",
        "outputId": "7d3dc927-928f-4632-8109-3e34b8412bc9"
      },
      "execution_count": null,
      "outputs": [
        {
          "output_type": "stream",
          "name": "stdout",
          "text": [
            "['string', 'a', 'in', 'words', 'reverse', 'To']\n"
          ]
        }
      ]
    },
    {
      "cell_type": "code",
      "source": [
        "#iii) To display the same string multiple times\n",
        "print((str2+\"\\n\")*5)"
      ],
      "metadata": {
        "colab": {
          "base_uri": "https://localhost:8080/"
        },
        "id": "NrjVKOexH0G9",
        "outputId": "5bf65ae1-7094-419a-916d-aca64d226f4c"
      },
      "execution_count": null,
      "outputs": [
        {
          "output_type": "stream",
          "name": "stdout",
          "text": [
            "To reverse words in a string\n",
            "To reverse words in a string\n",
            "To reverse words in a string\n",
            "To reverse words in a string\n",
            "To reverse words in a string\n",
            "\n"
          ]
        }
      ]
    },
    {
      "cell_type": "code",
      "source": [
        "#iv) To concatenate two strings\n",
        "name=\"Hemalatha\"\n",
        "Emp_id=\" 2575911\"\n",
        "print(name+Emp_id)"
      ],
      "metadata": {
        "colab": {
          "base_uri": "https://localhost:8080/"
        },
        "id": "ba_WhQpMInAg",
        "outputId": "ab4ed83e-3707-45bb-941e-bf2ef128867d"
      },
      "execution_count": null,
      "outputs": [
        {
          "output_type": "stream",
          "name": "stdout",
          "text": [
            "Hemalatha 2575911\n"
          ]
        }
      ]
    },
    {
      "cell_type": "code",
      "source": [
        "#v) Str1=\"South india\" using string slicing to display \"india\".\n",
        "str3=\"South india\"\n",
        "print(str3[6:])"
      ],
      "metadata": {
        "colab": {
          "base_uri": "https://localhost:8080/"
        },
        "id": "1KWi82YWJsVW",
        "outputId": "715b2c66-5c3e-4632-b662-18903ef5b6dc"
      },
      "execution_count": null,
      "outputs": [
        {
          "output_type": "stream",
          "name": "stdout",
          "text": [
            "india\n"
          ]
        }
      ]
    },
    {
      "cell_type": "markdown",
      "source": [
        "# 6. Perform the following:\n",
        "    i) Creating the dictionary.\n",
        "    ii) Accessing values and keys in the dictionary.\n",
        "    iii) Updating the dictionary using a function.\n",
        "    iv) clear and delete the dictionary values"
      ],
      "metadata": {
        "id": "25tbJeKhK14N"
      }
    },
    {
      "cell_type": "code",
      "source": [
        "#i) Creating the dictionary.\n",
        "emp_details1 = {\"name\":\"Hemalatha\",\"emp_id\":2575911,\"Location\":\"pune\",\"Role\":\"ASE\"}\n",
        "print(emp_details)"
      ],
      "metadata": {
        "colab": {
          "base_uri": "https://localhost:8080/"
        },
        "id": "UzerHdH0L4Je",
        "outputId": "8af27fca-31ab-4b91-b53f-d892a4e3738a"
      },
      "execution_count": null,
      "outputs": [
        {
          "output_type": "stream",
          "name": "stdout",
          "text": [
            "{'name': 'Hemalatha', 'emp_id': 2575911, 'Location': 'pune', 'Role': 'ASE'}\n"
          ]
        }
      ]
    },
    {
      "cell_type": "code",
      "source": [
        "#ii) Accessing values and keys in the dictionary.\n",
        "a=emp_details1.items()\n",
        "print(a)"
      ],
      "metadata": {
        "colab": {
          "base_uri": "https://localhost:8080/"
        },
        "id": "d-Zne9U4NupF",
        "outputId": "ac9935be-435e-4f2c-98b1-16bdea6da08d"
      },
      "execution_count": null,
      "outputs": [
        {
          "output_type": "stream",
          "name": "stdout",
          "text": [
            "dict_items([('name', 'Hemalatha'), ('emp_id', 2575911), ('Location', 'pune'), ('Role', 'ASE')])\n"
          ]
        }
      ]
    },
    {
      "cell_type": "code",
      "source": [
        "#iii) Updating the dictionary using a function.\n",
        "def update_emp_details1(emp_details1,x,y):\n",
        "  emp_details1[x]=y\n",
        "update_emp_details1(emp_details1,\"Place\",\"Andhra pradesh\")\n",
        "print(emp_details1)"
      ],
      "metadata": {
        "colab": {
          "base_uri": "https://localhost:8080/"
        },
        "id": "2ezYZuVGOjiT",
        "outputId": "5aa91ccb-7b9f-4b87-b202-54a54e37abf4"
      },
      "execution_count": null,
      "outputs": [
        {
          "output_type": "stream",
          "name": "stdout",
          "text": [
            "{'name': 'Hemalatha', 'emp_id': 2575911, 'Location': 'pune', 'Role': 'ASE', 'Place': 'Andhra pradesh'}\n"
          ]
        }
      ]
    },
    {
      "cell_type": "code",
      "source": [
        "#iv) clear and delete the dictionary values\n",
        "emp_details2 = {\"name\":\"Hemalatha\",\"emp_id\":2575911,\"Location\":\"pune\",\"Role\":\"ASE\"}\n",
        "copy_emp_details=emp_details2.copy()\n",
        "emp_details2.clear()\n",
        "del emp_details2\n",
        "print(copy_emp_details)"
      ],
      "metadata": {
        "colab": {
          "base_uri": "https://localhost:8080/"
        },
        "id": "KfL4xnODQ1ZB",
        "outputId": "7032a9f5-f23b-4a20-ada7-e8704c3f5bc3"
      },
      "execution_count": null,
      "outputs": [
        {
          "output_type": "stream",
          "name": "stdout",
          "text": [
            "{'name': 'Hemalatha', 'emp_id': 2575911, 'Location': 'pune', 'Role': 'ASE'}\n"
          ]
        }
      ]
    },
    {
      "cell_type": "markdown",
      "source": [
        "# 7. Python program to insert a number to any position in a list"
      ],
      "metadata": {
        "id": "uixp0bnEVAHx"
      }
    },
    {
      "cell_type": "code",
      "source": [
        "n=[1,2,3,4,5,6,7,9]\n",
        "print(\"Before insertion - \",n)\n",
        "n.insert(7,8)\n",
        "print(\"After insertion  - \",n)"
      ],
      "metadata": {
        "colab": {
          "base_uri": "https://localhost:8080/"
        },
        "id": "RasxQRTHVdGU",
        "outputId": "f1efc770-98aa-472f-f7d7-b2d17c3f9b97"
      },
      "execution_count": null,
      "outputs": [
        {
          "output_type": "stream",
          "name": "stdout",
          "text": [
            "Before insertion -  [1, 2, 3, 4, 5, 6, 7, 9]\n",
            "After insertion  -  [1, 2, 3, 4, 5, 6, 7, 8, 9]\n"
          ]
        }
      ]
    },
    {
      "cell_type": "markdown",
      "source": [
        "# 8. Python program to delete an element from a list by index"
      ],
      "metadata": {
        "id": "3itZZzduWwvR"
      }
    },
    {
      "cell_type": "code",
      "source": [
        "print(\"Before Deleting - \",n)\n",
        "del n[5]\n",
        "print(\"After Deleting  - \",n)"
      ],
      "metadata": {
        "colab": {
          "base_uri": "https://localhost:8080/"
        },
        "id": "9LrFev1lXNd1",
        "outputId": "e53e33b6-4fff-4773-dcb5-69f379d5ee23"
      },
      "execution_count": null,
      "outputs": [
        {
          "output_type": "stream",
          "name": "stdout",
          "text": [
            "Before Deleting -  [1, 2, 3, 4, 5, 7, 8, 9]\n",
            "After Deleting  -  [1, 2, 3, 4, 5, 8, 9]\n"
          ]
        }
      ]
    },
    {
      "cell_type": "markdown",
      "source": [
        "# 9. Write a program to display the numbers from 1 to 100"
      ],
      "metadata": {
        "id": "Kic5sAcRYxUC"
      }
    },
    {
      "cell_type": "code",
      "source": [
        "for i in range(1,101):\n",
        "  print(i)"
      ],
      "metadata": {
        "colab": {
          "base_uri": "https://localhost:8080/"
        },
        "id": "jqQWWL3AY-Bs",
        "outputId": "dcbd42ac-84b7-4c8b-b216-2eb84e87a2f5"
      },
      "execution_count": null,
      "outputs": [
        {
          "output_type": "stream",
          "name": "stdout",
          "text": [
            "1\n",
            "2\n",
            "3\n",
            "4\n",
            "5\n",
            "6\n",
            "7\n",
            "8\n",
            "9\n",
            "10\n",
            "11\n",
            "12\n",
            "13\n",
            "14\n",
            "15\n",
            "16\n",
            "17\n",
            "18\n",
            "19\n",
            "20\n",
            "21\n",
            "22\n",
            "23\n",
            "24\n",
            "25\n",
            "26\n",
            "27\n",
            "28\n",
            "29\n",
            "30\n",
            "31\n",
            "32\n",
            "33\n",
            "34\n",
            "35\n",
            "36\n",
            "37\n",
            "38\n",
            "39\n",
            "40\n",
            "41\n",
            "42\n",
            "43\n",
            "44\n",
            "45\n",
            "46\n",
            "47\n",
            "48\n",
            "49\n",
            "50\n",
            "51\n",
            "52\n",
            "53\n",
            "54\n",
            "55\n",
            "56\n",
            "57\n",
            "58\n",
            "59\n",
            "60\n",
            "61\n",
            "62\n",
            "63\n",
            "64\n",
            "65\n",
            "66\n",
            "67\n",
            "68\n",
            "69\n",
            "70\n",
            "71\n",
            "72\n",
            "73\n",
            "74\n",
            "75\n",
            "76\n",
            "77\n",
            "78\n",
            "79\n",
            "80\n",
            "81\n",
            "82\n",
            "83\n",
            "84\n",
            "85\n",
            "86\n",
            "87\n",
            "88\n",
            "89\n",
            "90\n",
            "91\n",
            "92\n",
            "93\n",
            "94\n",
            "95\n",
            "96\n",
            "97\n",
            "98\n",
            "99\n",
            "100\n"
          ]
        }
      ]
    },
    {
      "cell_type": "markdown",
      "source": [
        "# 10. Write a python program to find the sum of all items in a tuple"
      ],
      "metadata": {
        "id": "Bt8zrHWkZXNR"
      }
    },
    {
      "cell_type": "code",
      "source": [
        "tup=(2,1,3,4,5,6,8)\n",
        "sum1=0\n",
        "for i in range(len(tup)):\n",
        "  sum1=sum1+tup[i]\n",
        "print(sum1)"
      ],
      "metadata": {
        "colab": {
          "base_uri": "https://localhost:8080/"
        },
        "id": "T2rAzt-OZlFm",
        "outputId": "3029c816-78d0-464e-cf6b-b2924c254dab"
      },
      "execution_count": null,
      "outputs": [
        {
          "output_type": "stream",
          "name": "stdout",
          "text": [
            "29\n"
          ]
        }
      ]
    },
    {
      "cell_type": "markdown",
      "source": [
        "# 11. Create a dictionary containing three lambda functions Square, Cube and Square root\n",
        "    i) E.g. dict = {'Square':function for squaring,'Cube':function for cube,'Squareroot':function for square root}\n",
        "    ii) pass the values (input from the user) to the functions in the dictionary respectively.\n",
        "    iii) Then add the outputs of each function and print it."
      ],
      "metadata": {
        "id": "2iusmxaWaO_t"
      }
    },
    {
      "cell_type": "code",
      "source": [
        "#i) E.g. dict = {'Square':function for squaring,'Cube':function for cube,'Squareroot':function for square root}\n",
        "import math\n",
        "dict1 = {'Square':lambda x:x**2,'Cube': lambda x:x**3,'Squareroot':lambda x:math.sqrt(x)}\n",
        "#ii) pass the values (input from the user) to the functions in the dictionary respectively.\n",
        "num=int(input(\"Enter a number: \"))\n",
        "result_of_sqrt=dict1['Square'](num)\n",
        "result_of_cube=dict1['Cube'](num)\n",
        "result_of_square_root=dict1['Squareroot'](num)\n",
        "#iii) Then add the outputs of each function and print it.\n",
        "print(\"Square of given number is\",result_of_sqrt)\n",
        "print(\"Cube  of given number is\",result_of_cube)\n",
        "print(\"Square root of given number is\",result_of_square_root)"
      ],
      "metadata": {
        "colab": {
          "base_uri": "https://localhost:8080/"
        },
        "id": "m586WffkapPi",
        "outputId": "21301dec-442e-4cf2-e8f2-40bd3aea1cfe"
      },
      "execution_count": null,
      "outputs": [
        {
          "output_type": "stream",
          "name": "stdout",
          "text": [
            "Enter a number: 2\n",
            "Square of given number is 4\n",
            "Cube  of given number is 8\n",
            "Square root of given number is 1.4142135623730951\n"
          ]
        }
      ]
    },
    {
      "cell_type": "markdown",
      "source": [
        "# 12. A list of words is given. find the words from the list that have their second character in uppercase. ls=['hello','Dear','hOw','ARe','You']"
      ],
      "metadata": {
        "id": "Owxg4AQLjPzd"
      }
    },
    {
      "cell_type": "code",
      "source": [
        "ls=['hello','Dear','hOw','ARe','You']\n",
        "emty_list=[]\n",
        "for i in ls:\n",
        "  if i[1].isupper():\n",
        "    emty_list.append(i)\n",
        "print(emty_list)"
      ],
      "metadata": {
        "colab": {
          "base_uri": "https://localhost:8080/"
        },
        "id": "I2q24skeky88",
        "outputId": "5a7f75e8-b1d2-4e60-fb10-1f14b5e652c5"
      },
      "execution_count": null,
      "outputs": [
        {
          "output_type": "stream",
          "name": "stdout",
          "text": [
            "['hOw', 'ARe']\n"
          ]
        }
      ]
    },
    {
      "cell_type": "markdown",
      "source": [
        "# 13. A dictionary of names and their weights on earth is given. Find how much they will weight on the moon (use map and lambda functions) Formula : wmoon = (wEarth*GMoon)/GEarth\n",
        "    i) #weight of people in kg\n",
        "      WeightOnEarth = {'john':45.'Shelly':65,'Marry':35}\n",
        "    ii) #Gravitational force on the moon: 1.622 m/s2\n",
        "      GMoon = 1.622\n",
        "    iii) #Gravitational force on the Earth: 9.81 m/s2\n",
        "      GEarth = 9.81\n",
        "\n"
      ],
      "metadata": {
        "id": "i27m7MBzl1PJ"
      }
    },
    {
      "cell_type": "code",
      "source": [
        "WeightOnEarth = {'john':45,'Shelly':65,'Marry':35}\n",
        "GMoon = 1.622\n",
        "GEarth = 9.81\n",
        "Weight_on_moon={name:(weight*GMoon)/GEarth for name, weight in WeightOnEarth.items()}\n",
        "for name, MoonWeight in Weight_on_moon.items():\n",
        "  print(f\"{name}: {MoonWeight :.2f}kg\")"
      ],
      "metadata": {
        "id": "h_IUe5g9olln",
        "colab": {
          "base_uri": "https://localhost:8080/"
        },
        "outputId": "367e4c4a-8dd4-46e4-8d8a-0c9a0d6c5375"
      },
      "execution_count": 41,
      "outputs": [
        {
          "output_type": "stream",
          "name": "stdout",
          "text": [
            "john: 7.44kg\n",
            "Shelly: 10.75kg\n",
            "Marry: 5.79kg\n"
          ]
        }
      ]
    },
    {
      "cell_type": "markdown",
      "source": [
        "# **Control Structures:**"
      ],
      "metadata": {
        "id": "JfNIA2AnAVdw"
      }
    },
    {
      "cell_type": "markdown",
      "source": [
        "# 1. Write a python program to find the first N prime numbers"
      ],
      "metadata": {
        "id": "qbhOZ58oB0Yd"
      }
    },
    {
      "cell_type": "markdown",
      "source": [],
      "metadata": {
        "id": "ElJzYpi6BtrW"
      }
    },
    {
      "cell_type": "code",
      "source": [
        "n=int(input(\"Enter the number: \"))\n",
        "for i in range(2,n+1):\n",
        "  count=0\n",
        "  for j in range(2,i):\n",
        "    if(i%j==0):\n",
        "      count=1\n",
        "      break\n",
        "  if(count==0):\n",
        "    print(i)"
      ],
      "metadata": {
        "colab": {
          "base_uri": "https://localhost:8080/"
        },
        "id": "OoBkmQ5YCHa6",
        "outputId": "2640622d-6574-40f3-9aba-15e9f63cca3e"
      },
      "execution_count": 11,
      "outputs": [
        {
          "output_type": "stream",
          "name": "stdout",
          "text": [
            "Enter the number: 50\n",
            "2\n",
            "3\n",
            "5\n",
            "7\n",
            "11\n",
            "13\n",
            "17\n",
            "19\n",
            "23\n",
            "29\n",
            "31\n",
            "37\n",
            "41\n",
            "43\n",
            "47\n"
          ]
        }
      ]
    },
    {
      "cell_type": "markdown",
      "source": [
        "# 2. Write the python code that calculates the salaryof an employee. prompt the user to enter the basic salary, HRA, TA, and DA. Add these components to calculate the gross salaryalso,deduct 10%of salary from the gross salary to be paid as tax and display gross minus tax as net salary."
      ],
      "metadata": {
        "id": "-z4JRP9AHB9J"
      }
    },
    {
      "cell_type": "code",
      "source": [
        "basic_Salary=int(input(\"Enter the basic salary of an employee: \"))\n",
        "HRA=int(input(\"Enter the HRA of an employee: \"))\n",
        "TA=int(input(\"Enter the TA of an employee: \"))\n",
        "DA=int(input(\"Enter the DA of an employee: \"))\n",
        "Gross_salary=basic_Salary+HRA+TA+DA\n",
        "print(\"Gross_salary : \",Gross_salary)\n",
        "tax_deduction=(Gross_salary*0.10)\n",
        "print(\"Tax : \",tax_deduction)\n",
        "net_salary=Gross_salary-tax_deduction\n",
        "print(\"Net salary : \",net_salary)\n"
      ],
      "metadata": {
        "colab": {
          "base_uri": "https://localhost:8080/"
        },
        "id": "acpsw48eIBZJ",
        "outputId": "94dcd3ef-8e6f-4426-807e-9c79f619b782"
      },
      "execution_count": 24,
      "outputs": [
        {
          "output_type": "stream",
          "name": "stdout",
          "text": [
            "Enter the basic salary of an employee: 13333\n",
            "Enter the HRA of an employee: 8117\n",
            "Enter the TA of an employee: 3333\n",
            "Enter the DA of an employee: 4500\n",
            "Gross_salary :  29283\n",
            "Tax :  2928.3\n",
            "Net salary :  26354.7\n"
          ]
        }
      ]
    },
    {
      "cell_type": "markdown",
      "source": [],
      "metadata": {
        "id": "Sr4m_LxTT_2e"
      }
    },
    {
      "cell_type": "markdown",
      "source": [
        "# 3. Write a python program to search for a string in the given list"
      ],
      "metadata": {
        "id": "rNF6ZcOoUWlU"
      }
    },
    {
      "cell_type": "code",
      "source": [
        "list1=[\"Apple\",\"orange\",\"grapes\"]\n",
        "search_str=input(\"Enter the search string : \")\n",
        "# searching for orange\n",
        "if search_str in list1:\n",
        "  print(search_str,\"is present in the list\")\n",
        "else:\n",
        "  print(search_str,\"is not present in the list\")"
      ],
      "metadata": {
        "colab": {
          "base_uri": "https://localhost:8080/"
        },
        "id": "LZQIi54YUr4C",
        "outputId": "c4b822ef-b660-458f-8fba-aacddcf34017"
      },
      "execution_count": 27,
      "outputs": [
        {
          "output_type": "stream",
          "name": "stdout",
          "text": [
            "Enter the search string : bat\n",
            "bat is not present in the list\n"
          ]
        }
      ]
    },
    {
      "cell_type": "markdown",
      "source": [
        "# 4. Write a python function that accepts a string and calculates the number of upper-case letters and lower-case letters."
      ],
      "metadata": {
        "id": "2LasXZv4Wa4b"
      }
    },
    {
      "cell_type": "code",
      "source": [
        "str1=input(\"Enter the string : \")\n",
        "upper=0\n",
        "lower=0\n",
        "for i in str1:\n",
        "  if i.isupper():\n",
        "    upper+=1\n",
        "  elif i.islower():\n",
        "    lower+=1\n",
        "print(\"Upper case letters in the string are : \",upper)\n",
        "print(\"Lower case letters in the string are : \",lower)"
      ],
      "metadata": {
        "colab": {
          "base_uri": "https://localhost:8080/"
        },
        "id": "Pbq9eZesXHFp",
        "outputId": "9f3c0981-60c0-44f9-a494-92da589c84d5"
      },
      "execution_count": 29,
      "outputs": [
        {
          "output_type": "stream",
          "name": "stdout",
          "text": [
            "Enter the string : Hema Latha\n",
            "Upper case letters in the string are :  2\n",
            "Lower case letters in the string are :  7\n"
          ]
        }
      ]
    },
    {
      "cell_type": "markdown",
      "source": [
        "# 5. Write a program to display the sum of odd numbers and even numbers that fall between 12 and 37."
      ],
      "metadata": {
        "id": "KuWIbR5UZb5l"
      }
    },
    {
      "cell_type": "code",
      "source": [
        "sum1=0\n",
        "for i in range(13,37):\n",
        "  sum1=sum1+i\n",
        "print(sum1)"
      ],
      "metadata": {
        "colab": {
          "base_uri": "https://localhost:8080/"
        },
        "id": "RmhXzRSyZz-P",
        "outputId": "2b77fa1e-d677-4e0e-a33a-f7cd565afe91"
      },
      "execution_count": 31,
      "outputs": [
        {
          "output_type": "stream",
          "name": "stdout",
          "text": [
            "588\n"
          ]
        }
      ]
    },
    {
      "cell_type": "markdown",
      "source": [
        "# 6.Write  a python program to print the table of any number."
      ],
      "metadata": {
        "id": "Et2rLdVxbrbj"
      }
    },
    {
      "cell_type": "code",
      "source": [
        "n=int(input(\"Enter the number to print the table : \"))\n",
        "for i in range(1,11):\n",
        "  print(n,\"*\",i,\"=\",n*i)\n"
      ],
      "metadata": {
        "colab": {
          "base_uri": "https://localhost:8080/"
        },
        "id": "YeAR7lI8cCSk",
        "outputId": "3aecb6bd-eb4b-40b2-96de-aecc3edc9a6d"
      },
      "execution_count": 35,
      "outputs": [
        {
          "output_type": "stream",
          "name": "stdout",
          "text": [
            "Enter the number to print the table : 5\n",
            "5 * 1 = 5\n",
            "5 * 2 = 10\n",
            "5 * 3 = 15\n",
            "5 * 4 = 20\n",
            "5 * 5 = 25\n",
            "5 * 6 = 30\n",
            "5 * 7 = 35\n",
            "5 * 8 = 40\n",
            "5 * 9 = 45\n",
            "5 * 10 = 50\n"
          ]
        }
      ]
    },
    {
      "cell_type": "markdown",
      "source": [
        "# 7. Write a python program to sum the first 10 prime numbers."
      ],
      "metadata": {
        "id": "ELQUsf6-c6KC"
      }
    },
    {
      "cell_type": "code",
      "source": [
        "def isprime(num):\n",
        "    if num <= 1:\n",
        "        return False\n",
        "    if num <= 3:\n",
        "        return True\n",
        "    if num % 2 == 0 or num % 3 == 0:\n",
        "        return False\n",
        "    i = 5\n",
        "    while(i * i <= num):\n",
        "        if (num % i == 0 or num % (i + 2) == 0):\n",
        "            return False\n",
        "        i += 6\n",
        "    return True\n",
        "result =0\n",
        "primes_num = []\n",
        "i =2\n",
        "while len(primes_num) < 10:\n",
        "    if isprime(i):\n",
        "      primes_num.append(i)\n",
        "      result += i\n",
        "    i += 1\n",
        "print(\"The sum of first 10 primes is : \",result)\n"
      ],
      "metadata": {
        "colab": {
          "base_uri": "https://localhost:8080/"
        },
        "id": "oPwJ3BBkdZ1o",
        "outputId": "9ddad359-a239-40e2-dac0-bea61e1d4fb6"
      },
      "execution_count": 51,
      "outputs": [
        {
          "output_type": "stream",
          "name": "stdout",
          "text": [
            "The sum of first 10 primes is :  129\n"
          ]
        }
      ]
    },
    {
      "cell_type": "markdown",
      "source": [
        "# 8) write a python program to implement arithemetic operations using nested if statement"
      ],
      "metadata": {
        "id": "GfFP_6MXB5Lb"
      }
    },
    {
      "cell_type": "code",
      "source": [
        "num1 = int(input(\"Enter the first number\\n\"))\n",
        "num2 = int(input(\"Enter the second number\\n\"))\n",
        "optr = input(\"Enter the operator\\n\")\n",
        "if(optr == \"+\"):\n",
        "  print(\"Addition result = \", num1+num2)\n",
        "elif(optr == \"-\"):\n",
        "  print(\"Subtraction result = \", num1-num2)\n",
        "elif(optr == \"*\"):\n",
        "  print(\"Multiplication result = \", num1*num2)\n",
        "elif(optr == \"/\"):\n",
        "  if num2!=0:\n",
        "    print(\"Division result = \", num1/num2)\n",
        "  else:\n",
        "    print(\"num/0 is undefined\")\n",
        "else:\n",
        "  print(\"you entered the Unknown Symbol \")\n",
        ""
      ],
      "metadata": {
        "colab": {
          "base_uri": "https://localhost:8080/"
        },
        "id": "v10jaNADDz3R",
        "outputId": "8a78f14b-e5b6-46bc-c20e-bbc463bd0a6f"
      },
      "execution_count": 54,
      "outputs": [
        {
          "output_type": "stream",
          "name": "stdout",
          "text": [
            "Enter the first number\n",
            "4\n",
            "Enter the second number\n",
            "5\n",
            "Enter the operator\n",
            "+\n",
            "Addition result =  9\n"
          ]
        }
      ]
    },
    {
      "cell_type": "markdown",
      "source": [
        "# 9. write a python program to take the temperature in celsius and convert it into fahrenheit"
      ],
      "metadata": {
        "id": "jy6pa-IKAIfa"
      }
    },
    {
      "cell_type": "code",
      "source": [
        "temp_celsius = int(input(\"enter the celsius degrees\"))\n",
        "fahrenheit = (temp_celsius * 1.8) + 32\n",
        "print(\" Temperature in fahrenheit is: \",fahrenheit)"
      ],
      "metadata": {
        "colab": {
          "base_uri": "https://localhost:8080/"
        },
        "id": "qxgqE0JZJWv-",
        "outputId": "7b9d087e-e028-445c-efe6-57528bb814b6"
      },
      "execution_count": 56,
      "outputs": [
        {
          "output_type": "stream",
          "name": "stdout",
          "text": [
            "enter the celsius degrees36\n",
            " Temperature in fahrenheit is:  96.8\n"
          ]
        }
      ]
    },
    {
      "cell_type": "markdown",
      "source": [
        "# 10. write a python program to find a maximum and minum number in a list without using inbuilt functions\n"
      ],
      "metadata": {
        "id": "YHHuQxTQLVuD"
      }
    },
    {
      "cell_type": "code",
      "source": [
        "list_nums = [100, 20, 29, 38, 991, 5, 25, -87, 60, -82]\n",
        "max_num = 0\n",
        "min_num = 0\n",
        "for i in list_nums:\n",
        "    if max_num<i:\n",
        "        max_num = i\n",
        "    if min_num >i:\n",
        "        min_num = i\n",
        "\n",
        "print(\"The maximum in the list is: \",max_num)\n",
        "print(\"The minimum in the list is: \",min_num)"
      ],
      "metadata": {
        "colab": {
          "base_uri": "https://localhost:8080/"
        },
        "id": "8Cnu69qxLwzz",
        "outputId": "938ee5df-83b2-45bf-af4a-1c44302451b6"
      },
      "execution_count": 57,
      "outputs": [
        {
          "output_type": "stream",
          "name": "stdout",
          "text": [
            "The maximum in the list is:  991\n",
            "The minimum in the list is:  -87\n"
          ]
        }
      ]
    },
    {
      "cell_type": "markdown",
      "source": [
        "# 11. write a program in python to print out the number of seconds in 30-day month 30 days, 24 hours in a day , 60 minutes per day, 60 sec in a minute"
      ],
      "metadata": {
        "id": "xfp84NbFOeXq"
      }
    },
    {
      "cell_type": "code",
      "source": [
        "day_month = 30\n",
        "hour_day = 24\n",
        "min_hour = 60\n",
        "sec_min = 60\n",
        "\n",
        "result = day_month * hour_day * min_hour * sec_min\n",
        "print(\"number of seconds in 30-day  is : \",result)"
      ],
      "metadata": {
        "colab": {
          "base_uri": "https://localhost:8080/"
        },
        "id": "v_KloVnfPEa9",
        "outputId": "d234a575-0a77-4845-dc5d-24065620131e"
      },
      "execution_count": 58,
      "outputs": [
        {
          "output_type": "stream",
          "name": "stdout",
          "text": [
            "number of seconds in 30-day  is :  2592000\n"
          ]
        }
      ]
    },
    {
      "cell_type": "markdown",
      "source": [
        "# 12. write a python program to print number of seconds in a year"
      ],
      "metadata": {
        "id": "QdieqtYnS4Nj"
      }
    },
    {
      "cell_type": "code",
      "source": [
        "months_year = 30\n",
        "days = 24\n",
        "hours_day = 24\n",
        "mins_hour = 60\n",
        "secs_min = 60\n",
        "result = months_year * days * hours_day * mins_hour * secs_min\n",
        "print(\"The number of seconds in a year is : \",result)\n"
      ],
      "metadata": {
        "colab": {
          "base_uri": "https://localhost:8080/"
        },
        "id": "ZSpAl9kKTF0z",
        "outputId": "8e6f9709-fcb6-4c16-bac3-70cb7b84040a"
      },
      "execution_count": 59,
      "outputs": [
        {
          "output_type": "stream",
          "name": "stdout",
          "text": [
            "The number of seconds in a year is :  62208000\n"
          ]
        }
      ]
    },
    {
      "cell_type": "markdown",
      "source": [
        "# 13. A high-speed train can travel at an average speed of 150mph how long will it take a train travelling at this speed to travel from london to glasgow which is 414 miles away"
      ],
      "metadata": {
        "id": "_N7bsx8QUM_T"
      }
    },
    {
      "cell_type": "code",
      "source": [
        "speed = 150\n",
        "distance = 414\n",
        "time = distance/speed\n",
        "print(\"The time taken to travel from londom to glasgow is : \",time)"
      ],
      "metadata": {
        "colab": {
          "base_uri": "https://localhost:8080/"
        },
        "id": "vthcMbzOUh-F",
        "outputId": "769a981c-94ac-491a-db63-4b51647d010c"
      },
      "execution_count": 60,
      "outputs": [
        {
          "output_type": "stream",
          "name": "stdout",
          "text": [
            "The time taken to travel from londom to glasgow is :  2.76\n"
          ]
        }
      ]
    },
    {
      "cell_type": "markdown",
      "source": [
        "# 14. write a python program that defines a variable called days_in_each_school_year and assign 192 to the variable the program should then print out the total hours that you spend in school from year 7 to 11, if each day you spend 6 hours in school days_in_each_school_year = 192\n"
      ],
      "metadata": {
        "id": "f6r4ECZRVO2Z"
      }
    },
    {
      "cell_type": "code",
      "source": [
        "days_in_each_school_year = 192\n",
        "spend_years = 11-7\n",
        "spend_hours = 6\n",
        "total_hours = days_in_each_school_year * spend_years * spend_hours\n",
        "print(\"Total hours spent in school is : \",total_hours)"
      ],
      "metadata": {
        "colab": {
          "base_uri": "https://localhost:8080/"
        },
        "id": "rudLD3NhVoX3",
        "outputId": "f01baa92-9525-42f4-d409-3a8b19ad20d8"
      },
      "execution_count": 61,
      "outputs": [
        {
          "output_type": "stream",
          "name": "stdout",
          "text": [
            "Total hours spent in school is :  4608\n"
          ]
        }
      ]
    },
    {
      "cell_type": "markdown",
      "source": [
        "# 15. If the age of Ram, Sam and Khan are input through the keyboard write a python program to determine the eldest and youngest of the three"
      ],
      "metadata": {
        "id": "sssKmcOkXN32"
      }
    },
    {
      "cell_type": "code",
      "source": [
        "age_Ram = int(input(\"Enter the age of Ram \"))\n",
        "age_Sam = int(input(\"Enter the age of Sam \"))\n",
        "age_Khan = int(input(\"Enter the age of Khan \"))\n",
        "eldest = max(age_Ram, age_Sam, age_Khan)\n",
        "youngest = min(age_Ram, age_Sam, age_Khan)\n",
        "\n",
        "print(\"Elder of the three is \\n\",eldest)\n",
        "print(\"Younger of the three is \\n\",youngest)"
      ],
      "metadata": {
        "colab": {
          "base_uri": "https://localhost:8080/"
        },
        "id": "CpwTVbVhXTwH",
        "outputId": "d6cf3da7-2ebb-4a9a-a8c2-e2fe1d4b2a30"
      },
      "execution_count": 62,
      "outputs": [
        {
          "output_type": "stream",
          "name": "stdout",
          "text": [
            "Enter the age of Ram 43\n",
            "Enter the age of Sam 22\n",
            "Enter the age of Khan 67\n",
            "Elder of the three is \n",
            " 67\n",
            "Younger of the three is \n",
            " 22\n"
          ]
        }
      ]
    },
    {
      "cell_type": "markdown",
      "source": [
        "# 16. write a python program to rotate a list by right n times with and without slicing techinique."
      ],
      "metadata": {
        "id": "NBkYTn2xYTMp"
      }
    },
    {
      "cell_type": "code",
      "source": [
        "def with_slicing_rotate(lst, n):\n",
        "    n = n % len(lst)\n",
        "    return lst[-n:] + lst[:-n]\n",
        "def without_slicing_rotate(list, n):\n",
        "  rotated_list = [0] * len(lst)\n",
        "  for i in range(len(lst)):\n",
        "    rotated_list[(i + n) % len(lst)] = lst[i]\n",
        "  return rotated_list\n",
        "lst = [1, 2, 3, 4, 5, 6]\n",
        "n = int(input(\"Enter the number of rotations required : \"))\n",
        "print(with_slicing_rotate(lst, n))\n",
        "print(without_slicing_rotate(lst, n))"
      ],
      "metadata": {
        "colab": {
          "base_uri": "https://localhost:8080/"
        },
        "id": "KCjl9-OXY3PR",
        "outputId": "d02f646b-4091-4216-91c6-e452a6cc1141"
      },
      "execution_count": 68,
      "outputs": [
        {
          "output_type": "stream",
          "name": "stdout",
          "text": [
            "Enter the number of rotations required : 3\n",
            "[4, 5, 6, 1, 2, 3]\n",
            "[4, 5, 6, 1, 2, 3]\n"
          ]
        }
      ]
    },
    {
      "cell_type": "markdown",
      "source": [
        "17. Python program to print the pattersn given below\n"
      ],
      "metadata": {
        "id": "vtgCsHJ1gYCs"
      }
    },
    {
      "cell_type": "code",
      "source": [
        "# First-pattern\n",
        "from math import factorial\n",
        "n = int(input(\"Enter the number of rows required : \"))\n",
        "for i in range(n):\n",
        "    for j in range(n-i+1):\n",
        "        print(end=\" \")\n",
        "    for j in range(i+1):\n",
        "        print(factorial(i)//(factorial(j)*factorial(i-j)), end=\" \")\n",
        "    print()"
      ],
      "metadata": {
        "colab": {
          "base_uri": "https://localhost:8080/"
        },
        "id": "wUjOZbGGhlw_",
        "outputId": "6dd70cc2-db8f-45fd-8f21-5a3c3c293352"
      },
      "execution_count": 4,
      "outputs": [
        {
          "output_type": "stream",
          "name": "stdout",
          "text": [
            "Enter the number of rows required : 7\n",
            "        1 \n",
            "       1 1 \n",
            "      1 2 1 \n",
            "     1 3 3 1 \n",
            "    1 4 6 4 1 \n",
            "   1 5 10 10 5 1 \n",
            "  1 6 15 20 15 6 1 \n"
          ]
        }
      ]
    },
    {
      "cell_type": "code",
      "source": [
        "# Second-pattern\n",
        "n = int(input(\"Enter the number of rows required : \"))\n",
        "print(\"\\n\")\n",
        "for i in range(0, n):\n",
        "    for j in range(0, i):\n",
        "        print(\"* \", end=\"\")\n",
        "    print(\" \")"
      ],
      "metadata": {
        "colab": {
          "base_uri": "https://localhost:8080/"
        },
        "id": "Hl79ReSkijyj",
        "outputId": "dc7da713-c5dc-44ae-c51f-ed44d799c2ee"
      },
      "execution_count": 7,
      "outputs": [
        {
          "output_type": "stream",
          "name": "stdout",
          "text": [
            "Enter the number of rows required : 6\n",
            "\n",
            "\n",
            " \n",
            "*  \n",
            "* *  \n",
            "* * *  \n",
            "* * * *  \n",
            "* * * * *  \n"
          ]
        }
      ]
    },
    {
      "cell_type": "code",
      "source": [
        "# Third-pattern\n",
        "n = int(input(\"Enter number of rows: \"))\n",
        "for i in range(1, n+1):\n",
        "  print (' ' * (n - i), '* ' * i)"
      ],
      "metadata": {
        "colab": {
          "base_uri": "https://localhost:8080/"
        },
        "id": "uTQAIu5SjlQb",
        "outputId": "c152c815-7570-4f1a-cfaf-159fe7a8c10e"
      },
      "execution_count": 11,
      "outputs": [
        {
          "output_type": "stream",
          "name": "stdout",
          "text": [
            "Enter number of rows: 7\n",
            "       * \n",
            "      * * \n",
            "     * * * \n",
            "    * * * * \n",
            "   * * * * * \n",
            "  * * * * * * \n",
            " * * * * * * * \n"
          ]
        }
      ]
    },
    {
      "cell_type": "code",
      "source": [
        "# Fourth-pattern\n",
        "str1 = input(\"Enter a title : \")\n",
        "for i in range(len(str1)):\n",
        "    print(str1[:i+1])\n",
        ""
      ],
      "metadata": {
        "colab": {
          "base_uri": "https://localhost:8080/"
        },
        "id": "tcagkppwn8bP",
        "outputId": "41c0c077-5dee-4095-c08e-3c88d0fcbee0"
      },
      "execution_count": 17,
      "outputs": [
        {
          "output_type": "stream",
          "name": "stdout",
          "text": [
            "Enter a title : python\n",
            "p\n",
            "py\n",
            "pyt\n",
            "pyth\n",
            "pytho\n",
            "python\n"
          ]
        }
      ]
    }
  ]
}