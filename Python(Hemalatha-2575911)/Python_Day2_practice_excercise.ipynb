{
  "nbformat": 4,
  "nbformat_minor": 0,
  "metadata": {
    "colab": {
      "provenance": [],
      "authorship_tag": "ABX9TyO3yRduFBc/ydh1040BzCDV",
      "include_colab_link": true
    },
    "kernelspec": {
      "name": "python3",
      "display_name": "Python 3"
    },
    "language_info": {
      "name": "python"
    }
  },
  "cells": [
    {
      "cell_type": "markdown",
      "metadata": {
        "id": "view-in-github",
        "colab_type": "text"
      },
      "source": [
        "<a href=\"https://colab.research.google.com/github/hemalathamaruboyina/Samplerepo/blob/main/Python(Hemalatha-2575911)/Python_Day2_practice_excercise.ipynb\" target=\"_parent\"><img src=\"https://colab.research.google.com/assets/colab-badge.svg\" alt=\"Open In Colab\"/></a>"
      ]
    },
    {
      "cell_type": "markdown",
      "source": [
        "# 1. Write a Python Function to list even and odd numbers in a list"
      ],
      "metadata": {
        "id": "UePLjTAt5Wuf"
      }
    },
    {
      "cell_type": "code",
      "source": [
        "def list_odd_numbers(numbers):\n",
        "    odd_numbers = []\n",
        "    for number in numbers:\n",
        "        if number % 2 == 1:\n",
        "            odd_numbers.append(number)\n",
        "    return odd_numbers\n",
        "def list_even_numbers(numbers):\n",
        "    even_numbers = []\n",
        "    for number in numbers:\n",
        "        if number % 2 == 0:\n",
        "            even_numbers.append(number)\n",
        "    return even_numbers\n",
        "numbers=[5,8,6,1,0,3]\n",
        "print(\"Even numbers in the list are : \",list_even_numbers(numbers))\n",
        "print(\"Odd numbers in the list are : \",list_odd_numbers(numbers))"
      ],
      "metadata": {
        "colab": {
          "base_uri": "https://localhost:8080/"
        },
        "id": "EE1V-Rqv5zmg",
        "outputId": "06f38ea5-d1b7-4518-8585-161641a2208b"
      },
      "execution_count": 52,
      "outputs": [
        {
          "output_type": "stream",
          "name": "stdout",
          "text": [
            "Even numbers in the list are :  [8, 6, 0]\n",
            "Odd numbers in the list are :  [5, 1, 3]\n"
          ]
        }
      ]
    },
    {
      "cell_type": "markdown",
      "source": [
        "# 2: Write and run a python program that asks the user to enteer 8 integers (one at a time), and then prints out how many of those integers were even nnumbers For example, if the user entered 19, 6, 9, 20, 13, 7, 6 and 1 then your program should print out 3 since 3 of those numbers were even"
      ],
      "metadata": {
        "id": "QR1Kj748DZ-k"
      }
    },
    {
      "cell_type": "code",
      "source": [
        "nums = []\n",
        "count =0;\n",
        "print(\"Enter a numbers : \")\n",
        "for i in range(0, 8):\n",
        "    val = int(input())\n",
        "    nums.append(val)\n",
        "    if val%2 == 0:\n",
        "        count+=1\n",
        "\n",
        "print(nums)\n",
        "print(\" number of Even  integers are : \",count)"
      ],
      "metadata": {
        "colab": {
          "base_uri": "https://localhost:8080/"
        },
        "id": "XKSAG1afIVwh",
        "outputId": "258985c2-096f-4732-e50e-c5045946a0b7"
      },
      "execution_count": null,
      "outputs": [
        {
          "output_type": "stream",
          "name": "stdout",
          "text": [
            "Enter a numbers : \n",
            "19\n",
            "6\n",
            "20\n",
            "13\n",
            "7\n",
            "6\n",
            "1\n",
            "9\n",
            "[19, 6, 20, 13, 7, 6, 1, 9]\n",
            " number of Even  integers are :  3\n"
          ]
        }
      ]
    },
    {
      "cell_type": "markdown",
      "source": [
        "# 3. Write a python progrma where you take any positive integer n, if n is even, divided by 2 as n/2 if n is odd, multiply it by 3 and add 1 to obtain 3n+1 repeat the process until you reach 1"
      ],
      "metadata": {
        "id": "w9Dgy5vvJU_9"
      }
    },
    {
      "cell_type": "code",
      "source": [
        "num = int(input(\"Enter a number \"))\n",
        "count =0\n",
        "while(num!=1):\n",
        "    if(num%2 == 0):\n",
        "        num = num/2\n",
        "    else:\n",
        "        num = (num*3)+1\n",
        "    count=count+1\n",
        "print(\"Number of steps to make \"+str(num)+\" as 1 are : \"+ str(count))"
      ],
      "metadata": {
        "colab": {
          "base_uri": "https://localhost:8080/"
        },
        "id": "JouVicv5JoCI",
        "outputId": "219faf35-30d1-4680-d05a-80d87c09e7b9"
      },
      "execution_count": null,
      "outputs": [
        {
          "output_type": "stream",
          "name": "stdout",
          "text": [
            "Enter a number 10\n",
            "Number of steps to make 1.0 as 1 are : 6\n"
          ]
        }
      ]
    },
    {
      "cell_type": "markdown",
      "source": [
        "# 4. Write a python program to compute the sum of all the multiples of 3 or 5 below 500"
      ],
      "metadata": {
        "id": "prwfpYHaKjUD"
      }
    },
    {
      "cell_type": "code",
      "source": [
        "sum1 =0\n",
        "for i in range(3, 501):\n",
        "    if (i%3 == 0) or (i%5 == 0):\n",
        "        sum1 = sum1 + i\n",
        "print(\"Sum is : \",sum1)"
      ],
      "metadata": {
        "colab": {
          "base_uri": "https://localhost:8080/"
        },
        "id": "gVvcwmmJKt8p",
        "outputId": "39755761-c03b-4a21-852b-2bc37b648152"
      },
      "execution_count": null,
      "outputs": [
        {
          "output_type": "stream",
          "name": "stdout",
          "text": [
            "Sum is :  58418\n"
          ]
        }
      ]
    },
    {
      "cell_type": "markdown",
      "source": [
        "# 5. To write a python program to find first 'n'prime nunmbers from a list given numbers"
      ],
      "metadata": {
        "id": "uWOFbP_2MPx-"
      }
    },
    {
      "cell_type": "code",
      "source": [
        "def isprime(num):\n",
        "    if num<=1:\n",
        "        return False\n",
        "    if num ==2:\n",
        "        return True\n",
        "    if num%2 == 0:\n",
        "        return False\n",
        "    for i in range(3, int(num**0.5)+1, 2):\n",
        "        if num %i ==0:\n",
        "            return False\n",
        "    return True\n",
        "def count(nums, n):\n",
        "    primes = []\n",
        "    for i in nums:\n",
        "        if isprime(i):\n",
        "            primes.append(i)\n",
        "            if(len(primes) == n):\n",
        "                break\n",
        "    return primes\n",
        "siz = int(input(\"Enter the size of the list\"))\n",
        "nums = []\n",
        "for i in range(0, siz):\n",
        "    nums.append(int(input(\"Enter a number: \")))\n",
        "\n",
        "n = int(input(\"Enter the n: \"))\n",
        "primes = count(nums, n)\n",
        "print(f\"firs {n} primes in the\\n {nums} is\\n {primes}\")"
      ],
      "metadata": {
        "colab": {
          "base_uri": "https://localhost:8080/"
        },
        "id": "CUdI5pGCMWOi",
        "outputId": "eaaa0dd5-85b7-43ab-e8b6-9f62c375b6eb"
      },
      "execution_count": null,
      "outputs": [
        {
          "output_type": "stream",
          "name": "stdout",
          "text": [
            "Enter the size of the list10\n",
            "Enter a number: 7\n",
            "Enter a number: 9\n",
            "Enter a number: 11\n",
            "Enter a number: 5\n",
            "Enter a number: 3\n",
            "Enter a number: 4\n",
            "Enter a number: 3\n",
            "Enter a number: 0\n",
            "Enter a number: 13\n",
            "Enter a number: 15\n",
            "Enter the n: 7\n",
            "firs 7 primes in the\n",
            " [7, 9, 11, 5, 3, 4, 3, 0, 13, 15] is\n",
            " [7, 11, 5, 3, 3, 13]\n"
          ]
        }
      ]
    },
    {
      "cell_type": "markdown",
      "source": [
        "# 6. To write a python program to compute matrix multiplication"
      ],
      "metadata": {
        "id": "7b9N2VjYPA0v"
      }
    },
    {
      "cell_type": "code",
      "source": [
        "matA= []\n",
        "matB= []\n",
        "def matrix_mul(matA, matB):\n",
        "    result= [[0 for x in range(len(matB[0]))] for x in range(len(matA))]\n",
        "\n",
        "    for i in range(len(matA)):\n",
        "        for j in range(len(matB[0])):\n",
        "            for k in range(len(matB)):\n",
        "                result[i][j] += matA[i][k]*matB[k][j]\n",
        "    return result\n",
        "def matrix_ins(r, c):\n",
        "    matrix=[]\n",
        "    for i in range(r):\n",
        "        row=[]\n",
        "        for j in range(c):\n",
        "            value = int(input(f\"enter a value in {i+1} {j+1} cell: \"))\n",
        "            row.append(value)\n",
        "        matrix.append(row)\n",
        "    return matrix\n",
        "rows = int(input(\"Enter num of rows \"))\n",
        "cols = int(input(\"Enter num of cols \"))\n",
        "if(rows != cols):\n",
        "    print(\"Rows and Cols are not equal\")\n",
        "else:\n",
        "    matA = matrix_ins(rows, cols)\n",
        "    matB = matrix_ins(rows, cols)\n",
        "print(\"\\n\")\n",
        "result = matrix_mul(matA, matB)\n",
        "\n",
        "for r in result:\n",
        "    print(r)"
      ],
      "metadata": {
        "colab": {
          "base_uri": "https://localhost:8080/"
        },
        "id": "QFt3aiCFPD1D",
        "outputId": "19c9db26-d44f-427b-eb4e-72e72c84fe8c"
      },
      "execution_count": null,
      "outputs": [
        {
          "output_type": "stream",
          "name": "stdout",
          "text": [
            "Enter num of rows 3\n",
            "Enter num of cols 3\n",
            "enter a value in 1 1 cell: 3\n",
            "enter a value in 1 2 cell: 2\n",
            "enter a value in 1 3 cell: 4\n",
            "enter a value in 2 1 cell: 4\n",
            "enter a value in 2 2 cell: 5\n",
            "enter a value in 2 3 cell: 7\n",
            "enter a value in 3 1 cell: 8\n",
            "enter a value in 3 2 cell: 9\n",
            "enter a value in 3 3 cell: 0\n",
            "enter a value in 1 1 cell: 1\n",
            "enter a value in 1 2 cell: 2\n",
            "enter a value in 1 3 cell: 3\n",
            "enter a value in 2 1 cell: 4\n",
            "enter a value in 2 2 cell: 6\n",
            "enter a value in 2 3 cell: 8\n",
            "enter a value in 3 1 cell: 9\n",
            "enter a value in 3 2 cell: 12\n",
            "enter a value in 3 3 cell: 13\n",
            "\n",
            "\n",
            "[47, 66, 77]\n",
            "[87, 122, 143]\n",
            "[44, 70, 96]\n"
          ]
        }
      ]
    },
    {
      "cell_type": "markdown",
      "source": [
        "# 7. write a python function to count the number of vowels in a string"
      ],
      "metadata": {
        "id": "5Hjie3EgQHNz"
      }
    },
    {
      "cell_type": "code",
      "source": [
        "vowels = [\"a\", \"e\", \"i\", \"o\", \"u\", \"A\", \"E\", \"I\", \"O\", \"U\"]\n",
        "name = input(\"Enter a string : \")\n",
        "def count_vowels(name):\n",
        "    count =0\n",
        "    for i in name:\n",
        "        if i in vowels:\n",
        "            count += 1\n",
        "    return count\n",
        "ans = count_vowels(name)\n",
        "print(ans)"
      ],
      "metadata": {
        "colab": {
          "base_uri": "https://localhost:8080/"
        },
        "id": "n9WtzH8FSgD7",
        "outputId": "939d22bd-7839-42c2-cd24-00ae6b3110c6"
      },
      "execution_count": null,
      "outputs": [
        {
          "output_type": "stream",
          "name": "stdout",
          "text": [
            "Enter a string : hemalatha\n",
            "4\n"
          ]
        }
      ]
    },
    {
      "cell_type": "markdown",
      "source": [
        "# 8.  write a python function for finding factorial for the given number using recursive function"
      ],
      "metadata": {
        "id": "5Hp4haypSuo4"
      }
    },
    {
      "cell_type": "code",
      "source": [
        "def fact(num):\n",
        "    if num<=0:\n",
        "        return 1\n",
        "    else:\n",
        "         return num*fact(num-1)\n",
        "num = int(input(\"Enter a number: \"))\n",
        "ans = fact(num)\n",
        "print(\"Factorial of number\",num,\" is \",ans)"
      ],
      "metadata": {
        "colab": {
          "base_uri": "https://localhost:8080/"
        },
        "id": "U1ADjAQwTjND",
        "outputId": "c3e02140-acf3-428d-b660-cf18c1dd9862"
      },
      "execution_count": null,
      "outputs": [
        {
          "output_type": "stream",
          "name": "stdout",
          "text": [
            "Enter a number: 5\n",
            "Factorial of number 5  is  120\n"
          ]
        }
      ]
    },
    {
      "cell_type": "markdown",
      "source": [],
      "metadata": {
        "id": "Oj-NhOUWU0RO"
      }
    },
    {
      "cell_type": "markdown",
      "source": [
        "# 9. write a python program to generate the fibonacci series using the function\n"
      ],
      "metadata": {
        "id": "7TxFnC1EU_6e"
      }
    },
    {
      "cell_type": "code",
      "source": [
        "def fib(n):\n",
        "    result = [0, 1]\n",
        "    if(n<=0):\n",
        "        return []\n",
        "    elif n==1:\n",
        "        return [0]\n",
        "    elif n==2:\n",
        "        return [0, 1]\n",
        "    else:\n",
        "        result = fib(n-1)\n",
        "        result.append(result[-1]+result[-2])\n",
        "        return result\n",
        "num = int(input(\"Enter the range: \"))\n",
        "ans = fib(num)\n",
        "print(\"the fibonacci series of length \",num,\" is \\n\",ans)"
      ],
      "metadata": {
        "colab": {
          "base_uri": "https://localhost:8080/"
        },
        "id": "MbEdatD2VTMh",
        "outputId": "ab5b2419-c0b3-4f8e-c507-683020d7a715"
      },
      "execution_count": null,
      "outputs": [
        {
          "output_type": "stream",
          "name": "stdout",
          "text": [
            "Enter the range: 5\n",
            "the fibonacci series of length  5  is \n",
            " [0, 1, 1, 2, 3]\n"
          ]
        }
      ]
    },
    {
      "cell_type": "markdown",
      "source": [
        "# 10. python program to display the given integer in reverse order using the function without an in-built function"
      ],
      "metadata": {
        "id": "s971scjhW6HZ"
      }
    },
    {
      "cell_type": "code",
      "source": [
        "def reverse_number(num):\n",
        "    value =0\n",
        "    while num>0:\n",
        "        rem = num%10\n",
        "        value = value*10 + rem\n",
        "\n",
        "        num = num//10\n",
        "    return value\n",
        "num = int(input(\"enter a number: \"))\n",
        "ans = reverse_number(num)\n",
        "print(\"the reverse of \",num,\" is : \",ans)"
      ],
      "metadata": {
        "colab": {
          "base_uri": "https://localhost:8080/"
        },
        "id": "2auRNwJeZDH1",
        "outputId": "a258d5f0-602b-46af-c25b-a14e12f0db68"
      },
      "execution_count": null,
      "outputs": [
        {
          "output_type": "stream",
          "name": "stdout",
          "text": [
            "enter a number: 143\n",
            "the reverse of  143  is :  341\n"
          ]
        }
      ]
    },
    {
      "cell_type": "markdown",
      "source": [
        "# 11. write a python function to display all integers within range 200-300 whose sum digits is an even number"
      ],
      "metadata": {
        "id": "HnNIxwQeZX0x"
      }
    },
    {
      "cell_type": "code",
      "source": [
        "def check(n):\n",
        "    sum = 0\n",
        "    while n!=0:\n",
        "        sum += n%10\n",
        "        n = n//10\n",
        "    if sum % 2 ==0:\n",
        "        return True\n",
        "    else:\n",
        "        return False\n",
        "def solve():\n",
        "    values = []\n",
        "    for i in range(200, 301):\n",
        "        if check(i):\n",
        "            values.append(i)\n",
        "    return values\n",
        "ans = solve()\n",
        "print(\"The value whose sum is even in the range 200 - 300\\n\",ans)"
      ],
      "metadata": {
        "colab": {
          "base_uri": "https://localhost:8080/"
        },
        "id": "CQw8WDv3Zp0b",
        "outputId": "854734e2-bd95-48b6-fff3-31b19ca28f22"
      },
      "execution_count": null,
      "outputs": [
        {
          "output_type": "stream",
          "name": "stdout",
          "text": [
            "The value whose sum is even in the range 200 - 300\n",
            " [200, 202, 204, 206, 208, 211, 213, 215, 217, 219, 220, 222, 224, 226, 228, 231, 233, 235, 237, 239, 240, 242, 244, 246, 248, 251, 253, 255, 257, 259, 260, 262, 264, 266, 268, 271, 273, 275, 277, 279, 280, 282, 284, 286, 288, 291, 293, 295, 297, 299]\n"
          ]
        }
      ]
    },
    {
      "cell_type": "markdown",
      "source": [
        "# 12. Write a pyhton function to find the number of digits and sum of digits for a given integer"
      ],
      "metadata": {
        "id": "hd6S9sqtaPOe"
      }
    },
    {
      "cell_type": "code",
      "source": [
        "def solve(num):\n",
        "    count =0\n",
        "    sum =0\n",
        "    while num!=0:\n",
        "        count +=1\n",
        "        sum += num%10\n",
        "        num =  num//10\n",
        "    return [sum, count]\n",
        "num = int(input(\"Enter a number: \"))\n",
        "ans = solve(num)\n",
        "print(\"The count of num of digits in the given  number is: \\n\",ans[1])\n",
        "print(\"The sum of the digits in the given  number is: \\n\",ans[0])"
      ],
      "metadata": {
        "id": "6Z3ZrabWbf-N",
        "colab": {
          "base_uri": "https://localhost:8080/"
        },
        "outputId": "da95a6c3-1486-4d0b-c202-985d90538ff6"
      },
      "execution_count": 47,
      "outputs": [
        {
          "output_type": "stream",
          "name": "stdout",
          "text": [
            "Enter a number: 54376\n",
            "The count of num of digits in the given  number is: \n",
            " 5\n",
            "The sum of the digits in the given  number is: \n",
            " 25\n"
          ]
        }
      ]
    },
    {
      "cell_type": "markdown",
      "source": [
        "# 13. write functions called \"is_sorted\" that takes a list as a parameter And returns True if the list is sorted in ascending order And False otherwise \"has_duplicates\" that takes a list as a parameter And returns True if there is any element that appears more than once. It should not modify the the original list"
      ],
      "metadata": {
        "id": "5Lg1pqJ8tgWn"
      }
    },
    {
      "cell_type": "code",
      "source": [
        "def is_sorted(nums):\n",
        "    for i in range(1, len(nums)):\n",
        "        if(nums[i]>nums[i-1]):\n",
        "            return True\n",
        "    return False\n",
        "def has_duplicates(nums):\n",
        "    vis = set()\n",
        "    for i in nums:\n",
        "        if i in vis:\n",
        "            return True\n",
        "        vis.add(i)\n",
        "    return False\n",
        "# inputs for is_sorted fucntion\n",
        "n = int(input(\"Enter the size of the list: \"))\n",
        "nums1=[]\n",
        "for i in range(0, n):\n",
        "    ele = int(input(\"Enter the number in to the list1: \"))\n",
        "    nums1.append(ele)\n",
        "# calling is_sorted function\n",
        "ans1 = is_sorted(nums1)\n",
        "if ans1:\n",
        "    print(\"\\nUsing is_sorted fucntion the list\\n\",nums1, \" is a sorted list\")\n",
        "else:\n",
        "    print(\"\\nUsing is_sorted fucntion the list\\n\", nums1,\" is not a sorted list\")\n",
        "\n",
        "# inputs for has_duplicate function\n",
        "nums2=[]\n",
        "\n",
        "for i in range(0, n):\n",
        "    ele = int(input(\"Enter the number in to the list2: \"))\n",
        "    nums2.append(ele)\n",
        "# calling has_duplicates function\n",
        "ans2 = has_duplicates(nums2)\n",
        "\n",
        "if ans2:\n",
        "    print(\"Using has_duplicates fucntion the list\\n\",nums2,\"has duplicates in it\")\n",
        "else:\n",
        "    print(1\"Using has_duplicates fucntion the list\\n\",nums2, \" has no duplicates in it\")"
      ],
      "metadata": {
        "colab": {
          "base_uri": "https://localhost:8080/"
        },
        "id": "w3DaGENruUVJ",
        "outputId": "1b1e69be-648b-41a6-ea7a-d46052087977"
      },
      "execution_count": 50,
      "outputs": [
        {
          "output_type": "stream",
          "name": "stdout",
          "text": [
            "Enter the size of the list: 4\n",
            "Enter the number in to the list1: 66\n",
            "Enter the number in to the list1: 44\n",
            "Enter the number in to the list1: 87\n",
            "Enter the number in to the list1: 12\n",
            "\n",
            "Using is_sorted fucntion the list\n",
            " [66, 44, 87, 12]  is a sorted list\n",
            "Enter the number in to the list2: 4\n",
            "Enter the number in to the list2: 8\n",
            "Enter the number in to the list2: 2\n",
            "Enter the number in to the list2: 6\n",
            "Using has_duplicates fucntion the list\n",
            " [4, 8, 2, 6]  has no duplicates in it\n"
          ]
        }
      ]
    },
    {
      "cell_type": "markdown",
      "source": [
        "# 14. Write function called nested_sum that takes a list of integers and adds up the elements from all the nested lists ans cumsum that takse a list of numbers and returns the cumulative sum that is new list where the ith element is the sum of the first i+1 elements from the original list"
      ],
      "metadata": {
        "id": "UngcysHJzsb8"
      }
    },
    {
      "cell_type": "code",
      "source": [
        "def nested_sum(nums):\n",
        "    sum = 0\n",
        "    for i in nums:\n",
        "        if isinstance(i, list):\n",
        "            sum += nested_sum(i)\n",
        "        elif isinstance(i, int):\n",
        "            sum += i\n",
        "    return sum\n",
        "# creating nested list for the fun nested_sum\n",
        "nums1 = [1, [2, 3], [3, 4, 5],[4, 5, 6, 7]]\n",
        "# calling the nested_sum function\n",
        "ans1 = nested_sum(nums1)\n",
        "print(f\"Using nested_sum the\\n {nums1}\\nsum is {ans1}\")\n",
        "# cummsum function\n",
        "def cum_sum(nums):\n",
        "    sum = 0\n",
        "    ans = []\n",
        "    for i in nums:\n",
        "        sum += i\n",
        "        ans.append(sum)\n",
        "    return ans\n",
        "# list for cum_sum\n",
        "nums2 = [10, 20, 30, 40, 50]\n",
        "# calling the cum_sum function\n",
        "ans2 = cum_sum(nums2)\n",
        "print(f\"\\nUsing cum_sum the\\n {nums2}\\nanswer list is {ans2}\")"
      ],
      "metadata": {
        "colab": {
          "base_uri": "https://localhost:8080/"
        },
        "id": "2mqSaWjv0hwq",
        "outputId": "d69a6fed-ee6f-462d-bf46-4e77103371cc"
      },
      "execution_count": 51,
      "outputs": [
        {
          "output_type": "stream",
          "name": "stdout",
          "text": [
            "Using nested_sum the\n",
            " [1, [2, 3], [3, 4, 5], [4, 5, 6, 7]]\n",
            "sum is 40\n",
            "\n",
            "Using cum_sum the\n",
            " [10, 20, 30, 40, 50]\n",
            "answer list is [10, 30, 60, 100, 150]\n"
          ]
        }
      ]
    }
  ]
}