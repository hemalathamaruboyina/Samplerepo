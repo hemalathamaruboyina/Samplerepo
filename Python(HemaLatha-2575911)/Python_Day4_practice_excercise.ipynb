{
 "cells": [
  {
   "cell_type": "markdown",
   "id": "d927fb96",
   "metadata": {},
   "source": [
    "# 1. Write a python program with Exception handling to input marks for five subjects Physics. Chemistry, Biology, Mathematics, and Computer.\n",
    "Calculate the percentage and grade according to the following:\n",
    "i) percentage >= 90%: Grade A\n",
    "ii) percentage >= 80%: Grade B\n",
    "iii) percentage >= 70%: Grade C\n",
    "iv) percentage >= 60%: Grade D\n",
    "v) percentage >= 40%: Grade E\n",
    "vi) percentage < 40%: Grade F        \n"
   ]
  },
  {
   "cell_type": "code",
   "execution_count": 2,
   "id": "a312a03b",
   "metadata": {},
   "outputs": [
    {
     "name": "stdout",
     "output_type": "stream",
     "text": [
      "Enter Physics marks: 80\n",
      "Enter Chemistry marks: 79\n",
      "Enter Biology marks: 75\n",
      "Enter Mathematics marks: 90\n",
      "Enter Computer marks: 85\n",
      "Percentage: 81.800% \n",
      "Grade: Grade B\n"
     ]
    }
   ],
   "source": [
    "def Calculat_percent():\n",
    "    try:\n",
    "        Physics = float(input(\"Enter Physics marks: \"))\n",
    "        Chemistry = float(input(\"Enter Chemistry marks: \"))\n",
    "        Biology = float(input(\"Enter Biology marks: \"))\n",
    "        Mathematics = float(input(\"Enter Mathematics marks: \"))\n",
    "        Computer = float(input(\"Enter Computer marks: \"))\n",
    "        count = 5\n",
    "        Total_marks = Physics + Chemistry + Biology + Mathematics + Computer\n",
    "        Percentage = (Total_marks / (count*100)) * 100\n",
    "        if Percentage >= 90:\n",
    "            Grade = \"Grade A\"\n",
    "        elif Percentage >= 80:\n",
    "            Grade = \"Grade B\"\n",
    "        elif Percentage >= 70:\n",
    "            Grade = \"Grade C\"\n",
    "        elif Percentage >= 60:\n",
    "            Grade = \"Grade D\"\n",
    "        elif Percentage >= 40:\n",
    "            Grade = \"Grade E\"\n",
    "        else:\n",
    "            Grade = \"Grade F\"\n",
    "        print(f\"Percentage: {Percentage:.3f}% \")\n",
    "        print(f\"Grade: {Grade}\")\n",
    "    except ValueError:\n",
    "        print(\"Invalid input. Please enter valid numeric marks.\")\n",
    "    except Exception as e:\n",
    "        print(f\"An error occurred: {e}\")\n",
    "Calculat_percent()"
   ]
  },
  {
   "cell_type": "markdown",
   "id": "5f627b7a",
   "metadata": {},
   "source": [
    "# 2: Write a python program with Exception handling to input Electricity unit charges and calculate the total electricity bill according to the given condition\n",
    "i) For the first 50 units Rs. 0.50/unit\n",
    "ii) For the first 100 units Rs. 0.75/unit    \n",
    "iii) For the first 100 units Rs. 1.20/unit    \n",
    "iv) For the first 250 units Rs. 1.50/unit    \n",
    "v) An additional subcharge of 20% is added to the bill  "
   ]
  },
  {
   "cell_type": "code",
   "execution_count": 5,
   "id": "c7ef474f",
   "metadata": {},
   "outputs": [
    {
     "name": "stdout",
     "output_type": "stream",
     "text": [
      "Enter the number of units: 50\n",
      "Total Bill for 50.0 is: Rs. 30.000\n"
     ]
    }
   ],
   "source": [
    "def electricity_bill():\n",
    "    try:\n",
    "        units = float(input(\"Enter the number of units: \"))\n",
    "        bill = 0.0\n",
    "        subcharge = 0.0\n",
    "        if units <= 50:\n",
    "            bill = units * 0.50\n",
    "        elif units <= 100:\n",
    "            bill = 50 * 0.50 + (units-50)* 0.75\n",
    "        elif units <= 200:\n",
    "            bill = 50 * 0.50 + 50* 0.75 +(units-100)*1.20\n",
    "        else:\n",
    "            bill = 50 * 0.50 + 50 * 0.75 + 100 * 1.20 +(units-200) * 1.50\n",
    "        subcharge = bill * 0.20\n",
    "        total = bill + subcharge\n",
    "        print(f\"Total Bill for {units} is: Rs. {total:.3f}\")\n",
    "    except ValueError:\n",
    "        print(\"Invalid input\")\n",
    "        print(\"Enter a valid numeric value\")\n",
    "    except Exception as e:\n",
    "        print(f\"An error occured: {e}\")\n",
    "electricity_bill()"
   ]
  },
  {
   "cell_type": "markdown",
   "id": "4542352e",
   "metadata": {},
   "source": [
    "# 3. write a python program with Exception handling to input the week number and print the respectiveweekday"
   ]
  },
  {
   "cell_type": "code",
   "execution_count": 9,
   "id": "0f428e93",
   "metadata": {},
   "outputs": [
    {
     "name": "stdout",
     "output_type": "stream",
     "text": [
      "Enter the Week number: 4\n",
      " Day4 in a week is: Thursday\n"
     ]
    }
   ],
   "source": [
    "def week_day():\n",
    "    try:\n",
    "        week_number = int(input(\"Enter the Week number: \"))\n",
    "        Days = [\"Monday\", \"Tuesday\", \"Wednesday\", \"Thursday\", \"Friday\", \"Saturday\", \"Sunday\"]\n",
    "        if 1<=week_number and week_number<=7:\n",
    "            print(f\" Day{week_number} in a week is: {Days[week_number-1]}\")\n",
    "        else:\n",
    "            print(\"Enter the week number between 1 to 7\")\n",
    "    except ValueError:\n",
    "        print(\"Invalid input\")\n",
    "        print(\"enter a valid week number 1 to 7\")\n",
    "    except SyntaxError:\n",
    "        print(\"Invalid Syntax in the code\")\n",
    "    except Exception as e:\n",
    "        print(f\"An error occurred: {e}\")\n",
    "week_day()"
   ]
  },
  {
   "cell_type": "markdown",
   "id": "2cfb48c8",
   "metadata": {},
   "source": [
    "# 4: Write a python program to implement word count using command line arguments\n",
    "i) create a text document \"apple.txt\" which contains text for wordcount\n",
    "ii) create a wordcount program which call the \"apple.txt\" document by opening the file\n",
    "iii) If the word is present again in the \"apple.txt\", \n",
    "the wordcount is incremented by 1 until all the words are counted in the document\n",
    "iv) close the file\n",
    "v) create a command.py program which imports the wordcount.py program\n",
    "vi) count the number of words using command line argumnets\n",
    "vii)  print each word and its count\n"
   ]
  },
  {
   "cell_type": "code",
   "execution_count": null,
   "id": "68385aa6",
   "metadata": {},
   "outputs": [],
   "source": [
    "import sys\n",
    "def count_words(input_file):\n",
    "    word_counts = {}\n",
    "    try:\n",
    "        with open(input_file, 'r') as file:\n",
    "            for line in file:\n",
    "                words = line.split()\n",
    "                for word in words:\n",
    "                    word = word.lower() \n",
    "                    if word in word_counts:\n",
    "                        word_counts[word] += 1\n",
    "                    else:\n",
    "                        word_counts[word] = 1\n",
    "    except FileNotFoundError:\n",
    "        print(f\"File '{filename}' not found.\")\n",
    "    except Exception as e:\n",
    "        print(f\"An error occurred: {e}\")\n",
    "    return word_counts\n",
    "if __name__ == \"__main__\":\n",
    "    if len(sys.argv) != 2:\n",
    "        print(\"Usage: python your_script.py <filename>\")\n",
    "        sys.exit(1)\n",
    "    input_file = sys.argv[1]\n",
    "    num_of_words = count_words(input_file)\n",
    "    for word, count in num_of_words.items():\n",
    "        print(f\"word: {word} and its count: [{count}]\")"
   ]
  },
  {
   "cell_type": "markdown",
   "id": "abb21d86",
   "metadata": {},
   "source": [
    "# output(in cmd prompt)\n",
    "word: the and its count: [1]\n",
    "word: most and its count: [1]\n",
    "word: recent and its count: [1]\n",
    "word: major and its count: [1]\n",
    "word: version and its count: [1]\n",
    "word: of and its count: [2]\n",
    "word: python and its count: [6]\n",
    "word: is and its count: [3]\n",
    "word: 3, and its count: [1]\n",
    "word: which and its count: [2]\n",
    "word: we and its count: [1]\n",
    "word: shall and its count: [1]\n",
    "word: be and its count: [2]\n",
    "word: using and its count: [1]\n",
    "word: in and its count: [4]\n",
    "word: this and its count: [2]\n",
    "word: tutorial. and its count: [1]\n",
    "word: however, and its count: [1]\n",
    "word: 2, and its count: [1]\n",
    "word: although and its count: [1]\n",
    "word: not and its count: [1]\n",
    "word: being and its count: [1]\n",
    "word: updated and its count: [1]\n",
    "word: with and its count: [1]\n",
    "word: anything and its count: [1]\n",
    "word: other and its count: [1]\n",
    "word: than and its count: [1]\n",
    "word: security and its count: [1]\n",
    "word: updates, and its count: [1]\n",
    "word: still and its count: [1]\n",
    "word: quite and its count: [1]\n",
    "word: popular. and its count: [1]\n",
    "word: tutorial and its count: [1]\n",
    "word: will and its count: [1]\n",
    "word: written and its count: [1]\n",
    "word: a and its count: [1]\n",
    "word: text and its count: [1]\n",
    "word: editor. and its count: [1]\n",
    "word: it and its count: [1]\n",
    "word: possible and its count: [1]\n",
    "word: to and its count: [1]\n",
    "word: write and its count: [1]\n",
    "word: an and its count: [1]\n",
    "word: integrated and its count: [1]\n",
    "word: development and its count: [1]\n",
    "word: environment, and its count: [1]\n",
    "word: such and its count: [1]\n",
    "word: as and its count: [1]\n",
    "word: thonny, and its count: [1]\n",
    "word: pycharm, and its count: [1]\n",
    "word: netbeans and its count: [1]\n",
    "word: or and its count: [1]\n",
    "word: eclipse and its count: [1]\n",
    "word: are and its count: [1]\n",
    "word: particularly and its count: [1]\n",
    "word: useful and its count: [1]\n",
    "word: when and its count: [1]\n",
    "word: managing and its count: [1]\n",
    "word: larger and its count: [1]\n",
    "word: collections and its count: [1]\n",
    "word: files. and its count: [1]"
   ]
  },
  {
   "cell_type": "markdown",
   "id": "bce65df5",
   "metadata": {},
   "source": [
    "# 5. Write a python program for finding the most frequent words in a text read from a file\n",
    "i) Initially open the text file in read mode\n",
    "ii) make all the letters in the document into lowercase letters \n",
    "and spilit the words in each line\n",
    "iii) get the words in an order\n",
    "iv) sort the words for finding the most frequent words in the file\n",
    "v) print the most frequent words in the file"
   ]
  },
  {
   "cell_type": "code",
   "execution_count": 10,
   "id": "dca7c4a9",
   "metadata": {},
   "outputs": [
    {
     "name": "stdout",
     "output_type": "stream",
     "text": [
      "how many number of frequent words: 5\n",
      "Top 5 most frequent words in 'C:/Users/durga/OneDrive/Desktop/python_files/input_file1.txt':\n",
      "1. is: 4 times\n",
      "2. the: 4 times\n",
      "3. this: 2 times\n",
      "4. popular: 2 times\n",
      "5. it: 2 times\n"
     ]
    }
   ],
   "source": [
    "def most_freq(input_file):\n",
    "    try:\n",
    "        num_words = int(input(\"how many number of frequent words: \"))\n",
    "        with open(input_file, 'r') as inp:\n",
    "            line = inp.read()\n",
    "        words = line.lower().split()\n",
    "        word_freq = {}\n",
    "        for word in words:\n",
    "            if word in word_freq:\n",
    "                word_freq[word] += 1\n",
    "            else:\n",
    "                word_freq[word] = 1\n",
    "        sorted_words = sorted(word_freq.items(), key=lambda x: x[1], reverse=True)\n",
    "        print(f\"Top {num_words} most frequent words in '{input_file}':\")\n",
    "        for i, (word, freq) in enumerate(sorted_words[:num_words], 1):\n",
    "            print(f\"{i}. {word}: {freq} times\")\n",
    "    except FileNotFoundError:\n",
    "        print(f\"File '{input_file}' not found.\")\n",
    "    except Exception as e:\n",
    "        print(f\"An error occurred: {e}\")\n",
    "# if __name__ == \"__main__\":\n",
    "input_file = \"C:/Users/durga/OneDrive/Desktop/python_files/input_file1.txt\"\n",
    "most_freq(input_file)"
   ]
  },
  {
   "cell_type": "markdown",
   "id": "fb61a6ab",
   "metadata": {},
   "source": [
    "# 6: File Processing with command line arguments scenario:\n",
    "You are developing a command line utility that process text files\n",
    "Users can specify input and output file paths as commadn line arguments\n",
    "Your program should handle exception graecefully\n",
    "i) Design a python program that takes two command-line arguments:\n",
    "the input file path and the output file path.\n",
    "Ensure that the program checks if both arguments are provided and that\n",
    "the input file exits\n",
    "ii)Implement error handling to deal with sccenario \n",
    "such as missing input files, invalid file paths, or permission issues\n",
    "when writing to the output file\n",
    "iii) If an error occurs during file processing display a user friendly\n",
    "error message and exit the program with non-zero exit code\n",
    "iv) write test cases that cover various senarios, \n",
    "including providing valid and invalid file paths as \n",
    "command-line arguments"
   ]
  },
  {
   "cell_type": "code",
   "execution_count": null,
   "id": "b939e044",
   "metadata": {},
   "outputs": [],
   "source": [
    "import sys\n",
    "\n",
    "def process_files(input_file, output_file):\n",
    "    try:\n",
    "        if not input_file or not output_file:\n",
    "            raise ValueError(\"Both input and output file paths must be provided.\")\n",
    "\n",
    "        with open(input_file, 'r') as inp:\n",
    "            content = inp.read()\n",
    "\n",
    "        processed_content = content.upper()  \n",
    "        with open(output_file, 'w') as output:\n",
    "            output.write(processed_content)\n",
    "\n",
    "        print(\"File processing completed successfully.\")\n",
    "\n",
    "    except FileNotFoundError:\n",
    "        print(\"Input file not found.\")\n",
    "        sys.exit(1)\n",
    "    except PermissionError:\n",
    "        print(\"Permission denied while writing to the output file.\")\n",
    "        sys.exit(1)\n",
    "    except Exception as e:\n",
    "        print(f\"An error occurred: {e}\")\n",
    "        sys.exit(1)\n",
    "\n",
    "if __name__ == \"__main__\":\n",
    "    if len(sys.argv) != 3:\n",
    "        print(\"Usage: python your_program.py <input_file_path> <output_file_path>\")\n",
    "        sys.exit(1)\n",
    "\n",
    "    input_file = sys.argv[1]\n",
    "    output_file = sys.argv[2]\n",
    "\n",
    "    process_files(input_file, output_file)"
   ]
  },
  {
   "cell_type": "markdown",
   "id": "738c1ea6",
   "metadata": {},
   "source": [
    "# output(in cmd prompt)\n",
    "File processing completed successfully."
   ]
  }
 ],
 "metadata": {
  "kernelspec": {
   "display_name": "Python 3 (ipykernel)",
   "language": "python",
   "name": "python3"
  },
  "language_info": {
   "codemirror_mode": {
    "name": "ipython",
    "version": 3
   },
   "file_extension": ".py",
   "mimetype": "text/x-python",
   "name": "python",
   "nbconvert_exporter": "python",
   "pygments_lexer": "ipython3",
   "version": "3.9.13"
  }
 },
 "nbformat": 4,
 "nbformat_minor": 5
}
