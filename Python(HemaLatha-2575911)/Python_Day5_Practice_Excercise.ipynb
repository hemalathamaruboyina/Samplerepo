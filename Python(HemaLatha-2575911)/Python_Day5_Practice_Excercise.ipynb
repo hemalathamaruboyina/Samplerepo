{
 "cells": [
  {
   "cell_type": "markdown",
   "id": "e270b910",
   "metadata": {},
   "source": [
    "# 1. module import and management:\n",
    "Scenaria: you are developing a complex python project with multiple modules. To manage the project effectively, you need to import and use various modules. Additionally, you want to orgainize your code using namespaces and avoid naming conflicts\n",
    "\n",
    "design a python program that demonstrates the following:\n",
    "\n",
    "1)import multiple modules with in your project,\n",
    "2)Use the import statement to access functions, classes and variables from imported modules\n",
    "3)create your custom module and use it in yout mani program\n",
    "4)Handle naming conflicts and ensure proper namespacing\n",
    "5)Implement error handling for missing modules or incorrect module usage\n"
   ]
  },
  {
   "cell_type": "code",
   "execution_count": 65,
   "id": "49fafb31",
   "metadata": {},
   "outputs": [],
   "source": [
    "calculator_code = '''\n",
    "def div(a, b):\n",
    "    try:\n",
    "        return a/b\n",
    "    except ZeroDivisionError:\n",
    "        print(\"Divison can not be done with '0' as denominator\")\n",
    "        print(\"Enter some other number\")\n",
    "if __name__ == \"__main__\":\n",
    "    print(\"From  file it is using as a module\")\n",
    "'''\n",
    "with open(\"calculator.py\", \"w\") as cal:\n",
    "    cal.write(calculator_code)"
   ]
  },
  {
   "cell_type": "code",
   "execution_count": 68,
   "id": "a44b2575",
   "metadata": {},
   "outputs": [
    {
     "name": "stdout",
     "output_type": "stream",
     "text": [
      "choose option\n",
      "  1 = Division\n",
      "  0 = exit\n",
      " \n",
      "Enter your choice: 1\n",
      "You choose Divison operation\n",
      "Enter the first number: 4\n",
      "Enter the second number: 2\n",
      "\n",
      "result: 2.0\n",
      "\n",
      "choose option\n",
      "  1 = Division\n",
      "  0 = exit\n",
      " \n",
      "Enter your choice: 1\n",
      "You choose Divison operation\n",
      "Enter the first number: 2\n",
      "Enter the second number: 4\n",
      "\n",
      "result: 0.5\n",
      "\n",
      "choose option\n",
      "  1 = Division\n",
      "  0 = exit\n",
      " \n",
      "Enter your choice: 1\n",
      "You choose Divison operation\n",
      "Enter the first number: 1\n",
      "Enter the second number: -9\n",
      "\n",
      "result: -0.1111111111111111\n",
      "\n",
      "choose option\n",
      "  1 = Division\n",
      "  0 = exit\n",
      " \n",
      "Enter your choice: 1\n",
      "You choose Divison operation\n",
      "Enter the first number: 3\n",
      "Enter the second number: 0\n",
      "Divison can not be done with '0' as denominator\n",
      "Enter some other number\n",
      "\n",
      "result: None\n",
      "\n",
      "choose option\n",
      "  1 = Division\n",
      "  0 = exit\n",
      " \n",
      "Enter your choice: 0\n",
      "result: closed the calculator:\n"
     ]
    }
   ],
   "source": [
    "import calculator as calc\n",
    "result = \"\\nclosed\\n\"\n",
    "try:\n",
    "    while True:\n",
    "        print(\"choose option\\n  1 = Division\\n  0 = exit\\n \")\n",
    "        choice = int(input(\"Enter your choice: \"))\n",
    "        if(choice == 0):\n",
    "            break\n",
    "        else:\n",
    "            print(\"You choose Divison operation\")\n",
    "            a = int(input(\"Enter the first number: \"))\n",
    "            b = int(input(\"Enter the second number: \"))            \n",
    "            result = calc.div(a, b)\n",
    "            print(f\"\\nresult: {result}\\n\")\n",
    "except ValueError as e:\n",
    "        print(\"Check entered value: {e} \")\n",
    "finally:\n",
    "    print(f\"result: closed the calculator:\")"
   ]
  },
  {
   "cell_type": "markdown",
   "id": "ae6c702f",
   "metadata": {},
   "source": [
    "# 2. Virtual Environment Management"
   ]
  },
  {
   "cell_type": "raw",
   "id": "a6704781",
   "metadata": {},
   "source": [
    "Scenario: You are working on multiple python projects with different dependencies and versions. To avoid conflicts and ensure project isolation, You decide to use virtual environments.\n",
    "Create a python program that demostrated the following:\n",
    "1)Create a virtual environment for a specific peoject\n",
    "2)activate and deactivate virtual environments\n",
    "3)Install , Upgrade and uninstall packages within a virtual environment\n",
    "4)list the installed packages in a virtual environment\n",
    "5)implement error handling for virtual environment operations"
   ]
  },
  {
   "cell_type": "raw",
   "id": "8a31ded8",
   "metadata": {},
   "source": [
    "# output\n",
    "Manually Implemented in CMD\n"
   ]
  },
  {
   "cell_type": "markdown",
   "id": "980ff1f0",
   "metadata": {},
   "source": [
    "# 3. Module Dependency Resolution"
   ]
  },
  {
   "cell_type": "raw",
   "id": "fc28a97b",
   "metadata": {},
   "source": [
    "Scenario: Ypu are developing a python application that relies on third-party packages. Managing dependies and ensuring compatibility is crucial for your project's Success.\n",
    "Design a Python Prpgram that demonstrates the following:\n",
    "1)Usea requirements.txt file to specify project dependencies\n",
    "2)Automatically install all project dependencies from the requirements.txt file\n",
    "3)Ensure that the versions of installed packages are compatible\n",
    "4)Implement error handling for dependency resolution and installation"
   ]
  },
  {
   "cell_type": "raw",
   "id": "b3139950",
   "metadata": {},
   "source": [
    "# output\n",
    "Manually Implemented in CMD"
   ]
  },
  {
   "cell_type": "markdown",
   "id": "b301918e",
   "metadata": {},
   "source": [
    "# Database Programming with MySQL"
   ]
  },
  {
   "cell_type": "markdown",
   "id": "2ac67fe7",
   "metadata": {},
   "source": [
    "# 1. Implement Inventory Management in python with MySQL\n",
    "a) Inventory Management, a critical element of supply chain, \n",
    "is the tracking of inventory from manufactire to warehouses \n",
    "and from these facilities to a point of sale.\n",
    "The goal of inventory management is to have the right products \n",
    "in the right place at the right time\n",
    "\n",
    "b)The required Database is Inventory, \n",
    "and the required Tables are purchases, sales and Inventory\n",
    "c) Note: Apply you thoughts to demonstrate the DB operations in python"
   ]
  },
  {
   "cell_type": "code",
   "execution_count": 6,
   "id": "29af0d73",
   "metadata": {},
   "outputs": [
    {
     "name": "stdout",
     "output_type": "stream",
     "text": [
      " 'purchases', 'sales', 'Tables' and 'inventor are successfully created\n"
     ]
    }
   ],
   "source": [
    "import mysql.connector\n",
    "from mysql.connector import Error\n",
    "def connect_db():\n",
    "    conn = None  \n",
    "    try:\n",
    "        conn = mysql.connector.connect(\n",
    "            host=\"127.0.0.1\",\n",
    "            user=\"root\",\n",
    "            password=\"@1848AbcD\",\n",
    "            database=\"inventory\"\n",
    "        ) \n",
    "    except Error as e:\n",
    "        print(f\"Connection error: {e}\") \n",
    "    return conn  \n",
    "def create_table(conn):\n",
    "    try:\n",
    "        cur = conn.cursor()\n",
    "        cur.execute(\"\"\"\n",
    "            CREATE TABLE IF NOT EXISTS purchases (\n",
    "                id INT AUTO_INCREMENT PRIMARY KEY,\n",
    "                product_name VARCHAR(255),\n",
    "                quantity INT,\n",
    "                purchase_date DATE\n",
    "            )\n",
    "        \"\"\")\n",
    "        cur.execute(\"\"\"\n",
    "            CREATE TABLE IF NOT EXISTS sales (\n",
    "                id INT AUTO_INCREMENT PRIMARY KEY,\n",
    "                product_name VARCHAR(255),\n",
    "                quantity INT,\n",
    "                sale_date DATE\n",
    "            )\n",
    "        \"\"\")\n",
    "        cur.execute(\"\"\"\n",
    "            CREATE TABLE IF NOT EXISTS inventory (\n",
    "                id INT AUTO_INCREMENT PRIMARY KEY,\n",
    "                product_name VARCHAR(255),\n",
    "                quantity INT\n",
    "            )\n",
    "        \"\"\")\n",
    "        print(\" 'purchases', 'sales', 'Tables' and 'inventor are successfully created\")\n",
    "    except Error as e:\n",
    "        print(\"Error:\", e)\n",
    "if __name__ == \"__main__\":\n",
    "    conn = connect_db()\n",
    "    if conn:\n",
    "        create_table(conn)\n",
    "        conn.close()"
   ]
  },
  {
   "cell_type": "markdown",
   "id": "1f55b4ad",
   "metadata": {},
   "source": [
    "# 2. Customer Processing"
   ]
  },
  {
   "cell_type": "code",
   "execution_count": null,
   "id": "ff5dc614",
   "metadata": {},
   "outputs": [],
   "source": [
    "Scenario: You are building a customer order processing system for an e-commerce company.\n",
    "#     The system needs to interact with a MySQL database to store customer orders, products, and order details.\n",
    "     1: Design a MySQL database schema for the database for the order processing system,\n",
    "     including tables for customers, products and orders\n",
    "     2: write a python program that connects to the database and allows customers to\n",
    "     place new orders\n",
    "     3: Implement a feature that calculates the total cost of an order and updates \n",
    "     product quantities in the database\n",
    "     4: How would you handle cases where a product is no longer available when a customer places an order\n",
    "     5: Develop a function to generate order reprts for the companys finance department"
   ]
  },
  {
   "cell_type": "code",
   "execution_count": 44,
   "id": "557e2c94",
   "metadata": {},
   "outputs": [
    {
     "name": "stdout",
     "output_type": "stream",
     "text": [
      "Enter Customer ID: \n",
      "12\n",
      "Enter Product ID: \n",
      "1\n",
      "Enter the quantity: \n",
      "3\n",
      "Product is not available in sufficient quantity.\n",
      "Order ID: 1\n",
      ", Customer Name: Hema\n",
      ", Product: product A\n",
      ", Quantity: 5\n",
      ", Total Cost: Rs160.00\n",
      "\n",
      "Order ID: 2\n",
      ", Customer Name: Latha\n",
      ", Product: product B\n",
      ", Quantity: 3\n",
      ", Total Cost: Rs60.00\n",
      "\n",
      "Order ID: 3\n",
      ", Customer Name: Ajay\n",
      ", Product: product c\n",
      ", Quantity: 2\n",
      ", Total Cost: Rs200.00\n",
      "\n"
     ]
    }
   ],
   "source": [
    "import mysql.connector\n",
    "from mysql.connector import Error\n",
    "def connect_db():\n",
    "    try:\n",
    "        conn = mysql.connector.connect(\n",
    "            host=\"127.0.0.1\",\n",
    "            user=\"root\",\n",
    "            password=\"@1848AbcD\",\n",
    "            database=\"order_processing_system\"\n",
    "        )\n",
    "    except Error as e:\n",
    "        print(f\"Database connection error: {e}\")\n",
    "        return None\n",
    "    finally:\n",
    "        return conn\n",
    "def place_order(conn, customer_id, product_id, quantity):\n",
    "    try:\n",
    "        cur = conn.cursor()\n",
    "        cur.execute(\"SELECT * from productss WHERE product_id = %s\", (product_id,))\n",
    "        available_quantity = cur.fetchone()[0]\n",
    "        if available_quantity >= quantity:\n",
    "            cur.execute(\"SELECT product_price FROM productss WHERE product_id = %s\", (product_id,))\n",
    "            product_price = cur.fetchone()[0]\n",
    "            total_cost = product_price * quantity\n",
    "            cur.execute(\"INSERT INTO orders (customer_id, order_date) VALUES (%s, NOW())\", (customer_id,))\n",
    "            order_id = cur.lastrowid\n",
    "            cur.execute(\"INSERT INTO order_details (order_id, product_id, quantity_ordered) VALUES (%s, %s, %s)\",\n",
    "                           (order_id, product_id, quantity))\n",
    "            new_quantity = available_quantity - quantity\n",
    "            cur.execute(\"UPDATE products SET product_quantity = %s WHERE product_id = %s\", (new_quantity, product_id))\n",
    "            conn.commit()\n",
    "            print(f\"Order placed successfully. Total cost: Rs{total_cost}\\n\\n\")\n",
    "        else:\n",
    "            print(\"Product is not available in sufficient quantity.\")\n",
    "    except Error as e:\n",
    "        print(f\"Error placing order: {e}\")\n",
    "def order_report(conn):\n",
    "    try:\n",
    "        cur = conn.cursor(dictionary=True)\n",
    "        cur.execute(\"\"\"\n",
    "            select orders.order_id, customers.customer_name, productss.product_name,\n",
    "                   order_details.quantity_ordered, productss.product_price\n",
    "            from orders\n",
    "            join customers on orders.customer_id = customers.customer_id\n",
    "            join order_details on orders.order_id = order_details.order_id\n",
    "            join productss on order_details.product_id = productss.product_id\n",
    "        \"\"\")\n",
    "        orders = cur.fetchall()\n",
    "        for order in orders:\n",
    "            order_id = order['order_id']\n",
    "            customer_name = order['customer_name']\n",
    "            product_name = order['product_name']\n",
    "            quantity_ordered = order['quantity_ordered']\n",
    "            product_price = order['product_price']\n",
    "            total_cost = quantity_ordered * product_price\n",
    "            print(f\"Order ID: {order_id}\\n, Customer Name: {customer_name}\\n, Product: {product_name}\\n, \"\n",
    "                  f\"Quantity: {quantity_ordered}\\n, Total Cost: Rs{total_cost}\\n\")\n",
    "    except Error as e:\n",
    "        print(f\"Error generating order report: {e}\")\n",
    "if __name__ == \"__main__\":\n",
    "    conn = connect_db()\n",
    "    if conn:\n",
    "        customer_id = int(input(\"Enter Customer ID: \\n\")) \n",
    "        product_id = int(input(\"Enter Product ID: \\n\"))   \n",
    "        quantity = int(input(\"Enter the quantity: \\n\"))     \n",
    "        place_order(conn, customer_id, product_id, quantity)\n",
    "        order_report(conn)\n",
    "        conn.close()"
   ]
  },
  {
   "cell_type": "markdown",
   "id": "872c2328",
   "metadata": {},
   "source": [
    "# 3. you are tasked with developing a python program"
   ]
  },
  {
   "cell_type": "raw",
   "id": "4843d581",
   "metadata": {},
   "source": [
    "that connects to a mysql database, retrueves data from atable, \n",
    " performs some operations on the data, and updates the database \n",
    " with the modifies data please write python code to accomplish this task\n",
    "\n",
    "# Instructions:\n",
    "     1: Assume that you have a mysql database server running with the following details:\n",
    "         i)Host : localhost\n",
    "         ii)Port : 3306\n",
    "         iii) Username: your_username\n",
    "         iv)Password:your_password\n",
    "         v)Database Name: your_database\n",
    "         vi)Table Name: ypur_table\n",
    "        vii) the table has the following columns: id (int), name (varchar), quantity(int)\n",
    "     2:your pythonprogram should:\n",
    "         i)connect to the mysql database\n",
    "         ii) retrieve all records from your_table table\n",
    "         iii) calculate the total quantity of all records retrieved\n",
    "         iv) Update the quantity column of eeach  record by doubling its value\n",
    "         v) commit the changes to the database\n",
    "         vi)close the database connection\n",
    "     3:Handle any potential errors that may occur during the database connection and data manipulation such as connection       failures or SQL errors\n",
    "     4:Provide comments in your code to explain each step"
   ]
  },
  {
   "cell_type": "code",
   "execution_count": 60,
   "id": "cc892b4e",
   "metadata": {},
   "outputs": [
    {
     "name": "stdout",
     "output_type": "stream",
     "text": [
      "Connected to MySQL database\n",
      "Total quantity of all records: 10\n",
      "Records updated successfully\n",
      "Database connection closed\n"
     ]
    }
   ],
   "source": [
    "import mysql.connector\n",
    "from mysql.connector import Error\n",
    "try:\n",
    "    conn = mysql.connector.connect(\n",
    "        host=\"localhost\",\n",
    "        port=3306,\n",
    "        user=\"root\",\n",
    "        password=\"@1848AbcD\",\n",
    "        database=\"product_details\"\n",
    "    )\n",
    "    if conn.is_connected():\n",
    "        print(\"Connected to MySQL database\")\n",
    "        cur = conn.cursor()\n",
    "        cur.execute(\"SELECT * FROM prod_details\")\n",
    "        records = cur.fetchall()\n",
    "        total_quantity = sum(record[2] for record in records)\n",
    "        for record in records:\n",
    "            new_quantity = record[2] * 2\n",
    "            cur.execute(\"UPDATE prod_details SET quantity = %s WHERE prod_id = %s\", (new_quantity, record[0]))\n",
    "        conn.commit()\n",
    "        print(f\"Total quantity of all records: {total_quantity}\")\n",
    "        print(\"Records updated successfully\")\n",
    "except Error as e:\n",
    "    print(f\"Error: {e}\")\n",
    "finally:\n",
    "    if conn.is_connected():\n",
    "        cur.close()\n",
    "        conn.close()\n",
    "        print(\"Database connection closed\")"
   ]
  },
  {
   "cell_type": "markdown",
   "id": "d56e1db2",
   "metadata": {},
   "source": [
    "# 4. You are developing an employee management system for a company."
   ]
  },
  {
   "cell_type": "raw",
   "id": "758f6c03",
   "metadata": {},
   "source": [
    " The database should store employee information, including name, salary, department, and hire date.\n",
    " managers should be able to view and update the employee details\n",
    "     1: Design the database schema for the employee management system\n",
    "     2: Write python code to connect to the database and retrieve a list of employees in a specific department\n",
    "     3: Implement a feature to update an employee's salary"
   ]
  },
  {
   "cell_type": "code",
   "execution_count": 64,
   "id": "5129b002",
   "metadata": {},
   "outputs": [
    {
     "name": "stdout",
     "output_type": "stream",
     "text": [
      "Enter department name: HR\n",
      "Employees in the HR department:\n",
      "Name: John Doe\n",
      "Salary: 60000.00\n",
      "Hire Date: 2020-01-15\n"
     ]
    }
   ],
   "source": [
    "import mysql.connector\n",
    "from mysql.connector import Error\n",
    "def connect_db():\n",
    "    try:\n",
    "        conn = mysql.connector.connect(\n",
    "            host=\"127.0.0.1\",\n",
    "            user=\"root\",\n",
    "            password=\"@1848AbcD\",\n",
    "            database=\"emp_management_system\"\n",
    "        )\n",
    "        return conn\n",
    "    except Error as e:\n",
    "        print(f\"Database connection error: {e}\")\n",
    "        return None\n",
    "def retrieve_employees_by_dept(conn, dept_name):\n",
    "    try:\n",
    "        cur = conn.cursor(dictionary=True)\n",
    "        cur.execute(\"\"\"\n",
    "            select emp_name, salary, hire_date\n",
    "            from emp\n",
    "            inner join dept on emp.dept_id = dept.dept_id\n",
    "            where dept.dept_name = %s\n",
    "        \"\"\", (dept_name,))\n",
    "        emp = cur.fetchall()\n",
    "        return emp\n",
    "    except Error as e:\n",
    "        print(f\"Error retrieving employees: {e}\")\n",
    "        return []\n",
    "\n",
    "if __name__ == \"__main__\":\n",
    "    conn = connect_db()\n",
    "    if conn:\n",
    "        dept_name = input(\"Enter department name: \")\n",
    "        employee = retrieve_employees_by_dept(conn, dept_name)\n",
    "        if employee:\n",
    "            print(\"Employees in the\", dept_name, \"department:\")\n",
    "            for i in employee:\n",
    "                print(\"Name:\", i[\"emp_name\"])\n",
    "                print(\"Salary:\", i[\"salary\"])\n",
    "                print(\"Hire Date:\", i[\"hire_date\"])\n",
    "        else:\n",
    "            print(\"No employees found in the\", dept_name, \"department.\")\n",
    "        conn.close()"
   ]
  }
 ],
 "metadata": {
  "kernelspec": {
   "display_name": "Python 3 (ipykernel)",
   "language": "python",
   "name": "python3"
  },
  "language_info": {
   "codemirror_mode": {
    "name": "ipython",
    "version": 3
   },
   "file_extension": ".py",
   "mimetype": "text/x-python",
   "name": "python",
   "nbconvert_exporter": "python",
   "pygments_lexer": "ipython3",
   "version": "3.11.4"
  }
 },
 "nbformat": 4,
 "nbformat_minor": 5
}
