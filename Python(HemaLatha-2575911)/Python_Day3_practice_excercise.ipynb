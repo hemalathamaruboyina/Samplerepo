{
 "cells": [
  {
   "cell_type": "markdown",
   "id": "71cf7299",
   "metadata": {},
   "source": [
    "# 1. write a python function that copies a file reading and writing up to 50 characters at a time"
   ]
  },
  {
   "cell_type": "code",
   "execution_count": 4,
   "id": "049e4ed7",
   "metadata": {},
   "outputs": [
    {
     "name": "stdout",
     "output_type": "stream",
     "text": [
      "File 'C:/Users/durga/OneDrive/Desktop/python_files/input_file1.txt' copied to 'C:/Users/durga/OneDrive/Desktop/python_files/output_file1.txt' successfully.\n",
      "\n",
      "\n",
      "['this is ai-ml batch. python is the popular programming language. it is one of the popular language across the world. It is used pretty much like readlines() only, except that in this case we need to store the returned value in some variable.']\n"
     ]
    }
   ],
   "source": [
    "def solve(input_file, output_file):\n",
    "    \n",
    "    with open(input_file, 'r') as inp, open(output_file, 'w') as out:\n",
    "        while True:\n",
    "            data = inp.read(50)\n",
    "            if not data:\n",
    "                break  \n",
    "            out.write(data)\n",
    "    print(f\"File '{input_file}' copied to '{output_file}' successfully.\\n\\n\")\n",
    "input_file = \"C:/Users/durga/OneDrive/Desktop/python_files/input_file1.txt\"\n",
    "output_file = \"C:/Users/durga/OneDrive/Desktop/python_files/output_file1.txt\"\n",
    "solve(input_file, output_file)\n",
    "with  open(output_file, 'r') as f:\n",
    "    data = f.readlines()\n",
    "print(data)"
   ]
  },
  {
   "cell_type": "markdown",
   "id": "b21b1fea",
   "metadata": {},
   "source": [
    "# 2. print all numbers present in the text file and print the number of blank spaces in that file"
   ]
  },
  {
   "cell_type": "code",
   "execution_count": 4,
   "id": "369ae16c",
   "metadata": {},
   "outputs": [
    {
     "name": "stdout",
     "output_type": "stream",
     "text": [
      "Numbers in file are: \n",
      " ['3', '1', '2', '5', '66']\n",
      "Num of spaces in  file are:  75\n"
     ]
    }
   ],
   "source": [
    "import re\n",
    "def nums_spaces(inp_file):\n",
    "    nums = []\n",
    "    space_count =0\n",
    "    with open(inp_file, \"r\") as f:\n",
    "        lines = f.readlines()\n",
    "        for line in lines:\n",
    "            nums.extend(re.findall(r\"\\d+\", line))\n",
    "            space_count += line.count(\" \")     \n",
    "    print(\"Numbers in file are: \\n\", nums)\n",
    "    print(\"Num of spaces in  file are: \", space_count)\n",
    "input_file = \"C:/Users/durga/OneDrive/Desktop/python_files/file3.txt\"\n",
    "nums_spaces(input_file)"
   ]
  },
  {
   "cell_type": "markdown",
   "id": "637f6a81",
   "metadata": {},
   "source": [
    "# 3. write a function called sed that takes as arguments a pattern string, a replacement string, and two filenames; it should read the first file and write the contents into the second file (creating it if necessary). if the pattern string appears anywhere in the file, it should be replaced with the replacement string. If an error occurs while opening, reading, writing, or closing files, your program should catch the exception, print an error message and exit"
   ]
  },
  {
   "cell_type": "code",
   "execution_count": 7,
   "id": "d219a0f9",
   "metadata": {},
   "outputs": [
    {
     "name": "stdout",
     "output_type": "stream",
     "text": [
      "File 'C:/Users/durga/OneDrive/Desktop/python_files/replace_file1.txt' processed and saved to 'C:/Users/durga/OneDrive/Desktop/python_files/replace_file2.txt' successfully.\n",
      "\n",
      "['this is Machine Learning-ml batch. python is the popular programming language. Machine Learning is one of the popular language across the world. It is used pretty much like readlines() only, except that in this case we need to store the returned value in some variable.']\n"
     ]
    }
   ],
   "source": [
    "def sed(pattern, replacement, input_file, output_file):\n",
    "    try:\n",
    "        with open(input_file, 'r') as inp:\n",
    "            data = inp.read()\n",
    "        replaced_data = data.replace(pattern, replacement)\n",
    "        with open(output_file, 'w') as out:\n",
    "            out.write(replaced_data)\n",
    "        print(f\"File '{input_file}' processed and saved to '{output_file}' successfully.\\n\")\n",
    "    except FileNotFoundError:\n",
    "        print(f\"Error: File '{input_file}' not found.\\n\")\n",
    "    except Exception as e:\n",
    "        print(f\"An error occurred: {e}\\n\")\n",
    "pattern = 'ai'\n",
    "replacement = 'Machine Learning'\n",
    "input_file = \"C:/Users/durga/OneDrive/Desktop/python_files/replace_file1.txt\"\n",
    "output_file = \"C:Users/durga/OneDrive/Desktop/python_files/replace_file2.txt\"\n",
    "sed(pattern, replacement, input_file, output_file)\n",
    "with  open(output_file, 'r') as f:\n",
    "    data = f.readlines()\n",
    "print(data)"
   ]
  },
  {
   "cell_type": "markdown",
   "id": "dd4af0c8",
   "metadata": {},
   "source": [
    "# 4. Log File Analysis:\n",
    "    You have a log file containing records of user activities on a\n",
    "    website\n",
    "    Each line in the file repersents a log entry with details \n",
    "    like timestamp, user ID, and action performed.\n",
    "    Your task is to analyze this log file\n",
    "    a) write a python code to read the log file \n",
    "        and extract specific information, such as the number of \n",
    "        unique users or the most common action\n",
    "    b) How would you handle large log files \n",
    "        efficiently without loading the entire file info memory?  "
   ]
  },
  {
   "cell_type": "code",
   "execution_count": 9,
   "id": "c6f109b8",
   "metadata": {},
   "outputs": [
    {
     "name": "stdout",
     "output_type": "stream",
     "text": [
      "An error occurred: too many values to unpack (expected 3)\n",
      "\n"
     ]
    }
   ],
   "source": [
    "from collections import Counter\n",
    "def solve(log_file):\n",
    "    try:\n",
    "        unique_users = set()\n",
    "        actn_counter = Counter()\n",
    "        mst_cmn_actn = None\n",
    "        mst_cmn_actn_count = 0\n",
    "        with open(log_file, 'r') as file:\n",
    "            for line in file:\n",
    "                timestamp, user_id, action = line.strip().split(' ')\n",
    "                unique_users.add(user_id)\n",
    "                actn_counter[action] += 1     \n",
    "                if actn_counter[action] > mst_cmn_actn_count:\n",
    "                    mst_cmn_actn = action\n",
    "                    mst_cmn_actn_count = actn_counter[action]\n",
    "        print(f\"Number of unique users: {len(unique_users)}\")\n",
    "        print(f\"Most common action: {mst_cmn_actn} (count: {mst_cmn_actn_count})\")\n",
    "    except FileNotFoundError:\n",
    "        print(f\"Error: Log file '{log_file}' not found.\\n\")\n",
    "    except Exception as e:\n",
    "        print(f\"An error occurred: {e}\\n\")\n",
    "log_file = \"C:/Users/durga/OneDrive/Desktop/python_files/logfile.txt\" \n",
    "solve(log_file)"
   ]
  },
  {
   "cell_type": "markdown",
   "id": "246c2044",
   "metadata": {},
   "source": [
    "# 5: Text file search and replace:\n",
    "you have a text file with a large amount of text, \n",
    "and you want to search for specific words or phrases \n",
    "and replace them with new content\n",
    "a) write python code to search for and replace text within a text file\n",
    "b) how would you handle cases where you need to perform multiple replacements \n",
    "in a single pass?"
   ]
  },
  {
   "cell_type": "code",
   "execution_count": null,
   "id": "2a1f05b8",
   "metadata": {},
   "outputs": [],
   "source": [
    "def solve(input_file, output_file, replacements):\n",
    "    try:\n",
    "        with open(input_file, 'r') as inp, open(output_file, 'w') as out:\n",
    "            data = inp.read()\n",
    "            for pattern, replacement in replacements:\n",
    "                data = data.replace(pattern, replacement)\n",
    "            out.write(data)\n",
    "        print(f\"Replacements completed. Result saved to '{output_file}'.\\n\")\n",
    "    except FileNotFoundError:\n",
    "        print(f\"Error: File '{input_file}' not found.\\n\")\n",
    "    except Exception as e:\n",
    "        print(f\"An error occurred: {e}\\n\")\n",
    "input_file = \"C:/Users/durga/OneDrive/Desktop/python_files/file1.txt\"\n",
    "output_file = \"C:/Users/durga/OneDrive/Desktop/python_files/file2.txt\"\n",
    "replacements = [\n",
    "    ('ai', 'Technology'),\n",
    "    ('human intelligence', 'human brain'),\n",
    "    ('functions', 'operations')\n",
    "]\n",
    "solve(input_file, output_file, replacements)"
   ]
  },
  {
   "cell_type": "markdown",
   "id": "e6ef9ef1",
   "metadata": {},
   "source": [
    "# 6. write a python script that concatenates the contents of multiple text files into a single output file. Allow the user to specify the input files and the output file"
   ]
  },
  {
   "cell_type": "code",
   "execution_count": 13,
   "id": "9e96d7e5",
   "metadata": {},
   "outputs": [
    {
     "name": "stdout",
     "output_type": "stream",
     "text": [
      "Enter an input file name (or 'done' to finish): C:/Users/durga/OneDrive/Desktop/python_files/file1.txt\n",
      "Enter an input file name (or 'done' to finish): C:/Users/durga/OneDrive/Desktop/python_files/file2.txt\n",
      "Enter an input file name (or 'done' to finish): C:/Users/durga/OneDrive/Desktop/python_files/file3.txt\n",
      "Enter an input file name (or 'done' to finish): done\n",
      "Enter the output file name: C:/Users/durga/OneDrive/Desktop/python_files/concat_output_file.txt\n",
      "Concatenated files into 'C:/Users/durga/OneDrive/Desktop/python_files/concat_output_file.txt' successfully.\n",
      "\n"
     ]
    }
   ],
   "source": [
    "def concatenate(input_files, output_file):\n",
    "    try:\n",
    "        with open(output_file, 'w') as output:\n",
    "            for inp in input_files:\n",
    "                with open(inp, 'r') as input:\n",
    "                    data = input.read()\n",
    "                    output.write(data)\n",
    "                    output.write('\\n')\n",
    "        print(f\"Concatenated files into '{output_file}' successfully.\\n\")\n",
    "    except FileNotFoundError:\n",
    "        print(\"Error: One or more input files not found.\\n\")\n",
    "    except Exception as e:\n",
    "        print(f\"An error occurred: {e}\\n\")\n",
    "input_files = []\n",
    "while True:\n",
    "    file = input(\"Enter an input file name (or 'done' to finish): \")\n",
    "    if file.lower() == 'done':\n",
    "        break\n",
    "    input_files.append(file)\n",
    "output_file = input(\"Enter the output file name: \")\n",
    "concatenate(input_files, output_file)"
   ]
  },
  {
   "cell_type": "markdown",
   "id": "3257aace",
   "metadata": {},
   "source": [
    "# 7: you are given a text file names input.txt containing a list of words\n",
    "one word per line your task is to create a python program that reads the contents of input.txt processess the words and writes the reesult to an output file name as output.txt"
   ]
  },
  {
   "cell_type": "markdown",
   "id": "123e8415",
   "metadata": {},
   "source": [
    " a) the program should perform the following operations:\n",
    " i: Read the words from the input.txt\n",
    " ii: For each word in the input.txt fil, calculate the length of the word \n",
    "     and store it in a dictionary where the work is a key and length is a value\n",
    " iii: write the word-length dictionary to output.txt in the folllowing format:\n",
    " iv: close both input and output files properly\n",
    " v: write a python code to accomplish this task, \n",
    "     Ensure proper error handleing for file operations \n"
   ]
  },
  {
   "cell_type": "code",
   "execution_count": 14,
   "id": "76d76651",
   "metadata": {},
   "outputs": [
    {
     "name": "stdout",
     "output_type": "stream",
     "text": [
      "Word lengths written to 'C:/Users/durga/OneDrive/Desktop/python_files/output_file1.txt' successfully.\n",
      "\n",
      "this: 4\n",
      "is: 2\n",
      "ai-ml: 5\n",
      "batch.: 6\n",
      "python: 6\n",
      "the: 3\n",
      "popular: 7\n",
      "programming: 11\n",
      "language.: 9\n",
      "it: 2\n",
      "one: 3\n",
      "of: 2\n",
      "language: 8\n",
      "across: 6\n",
      "world.: 6\n",
      "It: 2\n",
      "used: 4\n",
      "pretty: 6\n",
      "much: 4\n",
      "like: 4\n",
      "readlines(): 11\n",
      "only,: 5\n",
      "except: 6\n",
      "that: 4\n",
      "in: 2\n",
      "case: 4\n",
      "we: 2\n",
      "need: 4\n",
      "to: 2\n",
      "store: 5\n",
      "returned: 8\n",
      "value: 5\n",
      "some: 4\n",
      "variable.: 9\n",
      "\n"
     ]
    }
   ],
   "source": [
    "def process_words(input_file, output_file):\n",
    "    try:\n",
    "        word_length = {}\n",
    "        with open(input_file, 'r') as inp:\n",
    "            words = inp.read().split()\n",
    "            for word in words:\n",
    "                word_length[word] = len(word)\n",
    "        with open(output_file, 'w') as out:\n",
    "            for word, length in word_length.items():\n",
    "                out.write(f\"{word}: {length}\\n\")\n",
    "        print(f\"Word lengths written to '{output_file}' successfully.\\n\")\n",
    "    except FileNotFoundError:\n",
    "        print(f\"Error: File '{input_file}' not found.\\n\")\n",
    "    except Exception as e:\n",
    "        print(f\"An error occurred: {e}\\n\")\n",
    "input_file = \"C:/Users/durga/OneDrive/Desktop/python_files/input_file1.txt\"\n",
    "output_file = \"C:/Users/durga/OneDrive/Desktop/python_files/output_file1.txt\"\n",
    "process_words(input_file, output_file)\n",
    "with open(output_file, 'r') as f:\n",
    "    data = f.read()\n",
    "print(data)"
   ]
  },
  {
   "cell_type": "markdown",
   "id": "cb800162",
   "metadata": {},
   "source": [
    "# 8.  Assume that you are developing a student gradeboook system for a school\n",
    "The system shoul allow teachers to input student grades for various subjects,\n",
    "Store the data in files and provide students with ability to view their grades\n",
    "\n",
    "i) Teachers should be able to input grades for students in different subjects\n",
    "ii) Store the student grade data in separate text files for each subject\n",
    "iii) Students should be able to view their grades for each subject\n",
    "iv) Implement error handling for file operations, such as file not found or permissionn issues"
   ]
  },
  {
   "cell_type": "code",
   "execution_count": 17,
   "id": "429cac04",
   "metadata": {},
   "outputs": [
    {
     "name": "stdout",
     "output_type": "stream",
     "text": [
      "Select an option:\n",
      "1. Input Grades\n",
      "2. View Grades\n",
      "3. Quit\n",
      "Enter choice (1/2/3): 3\n",
      "Exiting the program.\n"
     ]
    }
   ],
   "source": [
    "import os\n",
    "def input_grades(subject):\n",
    "    try:\n",
    "        grades = {}\n",
    "        while True:\n",
    "            student_name = input(f\"Enter student name for {subject} (or 'done' to finish): \")\n",
    "            if student_name.lower() == 'done':\n",
    "                break\n",
    "            grade = input(f\"Enter {student_name}'s grade for {subject}: \")\n",
    "            grades[student_name] = grade\n",
    "        with open(f'{subject}.txt', 'w') as file:\n",
    "            for student, grade in grades.items():\n",
    "                file.write(f\"{student}: {grade}\\n\")\n",
    "        print(f\"Grades for {subject} saved successfully.\")\n",
    "    except Exception as e:\n",
    "        print(f\"An error occurred: {e}\")\n",
    "def view_grades(subject):\n",
    "    try:\n",
    "        if os.path.exists(f'{subject}.txt'):\n",
    "            with open(f'{subject}.txt', 'r') as file:\n",
    "                grades = file.read()\n",
    "                print(f\"Grades for {subject}:\\n{grades}\\n\")\n",
    "        else:\n",
    "            print(f\"Grades for {subject} are not available.\\n\")\n",
    "    except Exception as e:\n",
    "        print(f\"An error occurred: {e}\\n\")\n",
    "while True:\n",
    "    choice = input(\"Select an option:\\n1. Input Grades\\n2. View Grades\\n3. Quit\\nEnter choice (1/2/3): \")\n",
    "    if choice == '1':\n",
    "        subject = input(\"Enter the subject: \")\n",
    "        input_grades(subject)\n",
    "    elif choice == '2':\n",
    "        subject = input(\"Enter the subject: \")\n",
    "        view_grades(subject)\n",
    "    elif choice == '3':\n",
    "        print(\"Exiting the program.\")\n",
    "        break\n",
    "    else:\n",
    "        print(\"Invalid choice. Please select 1, 2, or 3.\")"
   ]
  },
  {
   "cell_type": "code",
   "execution_count": 18,
   "id": "9ac7d3e6",
   "metadata": {},
   "outputs": [
    {
     "name": "stdout",
     "output_type": "stream",
     "text": [
      "\n",
      "Options:\n",
      "1. Input Grades\n",
      "2. View Grades\n",
      "3. Exit\n",
      "Enter your choice: 3\n"
     ]
    }
   ],
   "source": [
    "import os\n",
    "class GradebookSystem:\n",
    "    def __init__(self, school_name):\n",
    "        self.school_name = school_name\n",
    "        self.data_directory = \"grade_data\"\n",
    "        os.makedirs(self.data_directory, exist_ok=True)\n",
    "    def input_grades(self, subject, student_name, grade):\n",
    "        filename = os.path.join(self.data_directory, f\"{subject}.txt\")\n",
    "        try:\n",
    "            with open(filename, \"a\") as file:\n",
    "                file.write(f\"{student_name}: {grade}\\n\")\n",
    "            print(f\"Grade for {student_name} in {subject} saved successfully.\")\n",
    "        except FileNotFoundError:\n",
    "            print(\"Error: File not found.\")\n",
    "        except PermissionError:\n",
    "            print(\"Error: Permission denied while writing to file.\")\n",
    "        except Exception as e:\n",
    "            print(f\"An error occurred: {str(e)}\")\n",
    "    def view_grades(self, student_name):\n",
    "        print(f\"Grades for {student_name}:\")\n",
    "        for subject_file in os.listdir(self.data_directory):\n",
    "            subject = os.path.splitext(subject_file)[0]\n",
    "            filename = os.path.join(self.data_directory, subject_file)\n",
    "            try:\n",
    "                with open(filename, \"r\") as file:\n",
    "                    for line in file:\n",
    "                        data = line.strip().split(\": \")\n",
    "                        if len(data) == 2 and data[0] == student_name:\n",
    "                            print(f\"{subject}: {data[1]}\")\n",
    "            except FileNotFoundError:\n",
    "                print(f\"Error: File not found while reading {subject} grades.\")\n",
    "            except PermissionError:\n",
    "                print(f\"Error: Permission denied while reading {subject} grades.\")\n",
    "            except Exception as e:\n",
    "                print(f\"An error occurred: {str(e)}\")\n",
    "if __name__ == \"__main__\":\n",
    "    gradebook = GradebookSystem(\"My School\") \n",
    "    while True:\n",
    "        print(\"\\nOptions:\")\n",
    "        print(\"1. Input Grades\")\n",
    "        print(\"2. View Grades\")\n",
    "        print(\"3. Exit\")\n",
    "        choice = input(\"Enter your choice: \")\n",
    "        if choice == \"1\":\n",
    "            subject = input(\"Enter the subject: \")\n",
    "            student_name = input(\"Enter the student's name: \")\n",
    "            grade = input(\"Enter the grade: \")\n",
    "            gradebook.input_grades(subject, student_name, grade)\n",
    "        elif choice == \"2\":\n",
    "            student_name = input(\"Enter the student's name: \")\n",
    "            gradebook.view_grades(student_name)\n",
    "        elif choice == \"3\":\n",
    "            break\n",
    "        else:\n",
    "            print(\"Invalid choice. Please try again.\")\n"
   ]
  }
 ],
 "metadata": {
  "kernelspec": {
   "display_name": "Python 3 (ipykernel)",
   "language": "python",
   "name": "python3"
  },
  "language_info": {
   "codemirror_mode": {
    "name": "ipython",
    "version": 3
   },
   "file_extension": ".py",
   "mimetype": "text/x-python",
   "name": "python",
   "nbconvert_exporter": "python",
   "pygments_lexer": "ipython3",
   "version": "3.9.13"
  }
 },
 "nbformat": 4,
 "nbformat_minor": 5
}
