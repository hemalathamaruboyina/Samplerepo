{
 "cells": [
  {
   "cell_type": "code",
   "execution_count": 1,
   "id": "020c474e",
   "metadata": {},
   "outputs": [],
   "source": [
    "import numpy as np"
   ]
  },
  {
   "cell_type": "markdown",
   "id": "c214f1f8",
   "metadata": {},
   "source": [
    "# 1. Create a 3x3x3 array with random values"
   ]
  },
  {
   "cell_type": "code",
   "execution_count": 2,
   "id": "76a48b29",
   "metadata": {},
   "outputs": [
    {
     "name": "stdout",
     "output_type": "stream",
     "text": [
      "[[[95 53 88]\n",
      "  [22 87 45]\n",
      "  [49 17 84]]\n",
      "\n",
      " [[76 20 78]\n",
      "  [23 77 17]\n",
      "  [28 52 96]]\n",
      "\n",
      " [[77  8 50]\n",
      "  [53 13 77]\n",
      "  [20 34 57]]]\n"
     ]
    }
   ],
   "source": [
    "arr1 =  np.random.randint(1, 100, size = (3, 3, 3))\n",
    "print(arr1)"
   ]
  },
  {
   "cell_type": "markdown",
   "id": "a742b71c",
   "metadata": {},
   "source": [
    "# 2. Create a 5x5 matrix with values 1, 2, 3, 4 just below the diagonal"
   ]
  },
  {
   "cell_type": "code",
   "execution_count": 3,
   "id": "a173cbb0",
   "metadata": {},
   "outputs": [
    {
     "name": "stdout",
     "output_type": "stream",
     "text": [
      "[[0 0 0 0 0]\n",
      " [1 0 0 0 0]\n",
      " [0 2 0 0 0]\n",
      " [0 0 3 0 0]\n",
      " [0 0 0 4 0]]\n"
     ]
    }
   ],
   "source": [
    "val = [1, 2, 3, 4]\n",
    "mat = np.zeros((5, 5), dtype = int)\n",
    "for i in range(1, 5):\n",
    "    mat[i, i-1] = val[i-1]\n",
    "print(mat)"
   ]
  },
  {
   "cell_type": "markdown",
   "id": "a651a81b",
   "metadata": {},
   "source": [
    "# 3. Create a 8x8 matrix and fill it with a checkerboard pattern"
   ]
  },
  {
   "cell_type": "code",
   "execution_count": 4,
   "id": "4abbc9cc",
   "metadata": {},
   "outputs": [
    {
     "name": "stdout",
     "output_type": "stream",
     "text": [
      "[[0 1 0 1 0 1 0 1]\n",
      " [1 0 1 0 1 0 1 0]\n",
      " [0 1 0 1 0 1 0 1]\n",
      " [1 0 1 0 1 0 1 0]\n",
      " [0 1 0 1 0 1 0 1]\n",
      " [1 0 1 0 1 0 1 0]\n",
      " [0 1 0 1 0 1 0 1]\n",
      " [1 0 1 0 1 0 1 0]]\n"
     ]
    }
   ],
   "source": [
    "board = np.zeros((8, 8), dtype=int)\n",
    "board[1::2, ::2] = 1\n",
    "board[::2, 1::2] = 1\n",
    "print(board)"
   ]
  },
  {
   "cell_type": "markdown",
   "id": "734b9409",
   "metadata": {},
   "source": [
    "# 4. Normalize a 5x5 random matrix"
   ]
  },
  {
   "cell_type": "code",
   "execution_count": 5,
   "id": "9d03596d",
   "metadata": {},
   "outputs": [
    {
     "name": "stdout",
     "output_type": "stream",
     "text": [
      "Original random matrix:\n",
      "[[72  2  4 23 15]\n",
      " [10 99 45 65 65]\n",
      " [34 29 60 19 17]\n",
      " [99 77 30 48 96]\n",
      " [69 56 98 35 29]]\n",
      "\n",
      "Normalized matrix:\n",
      "[[ 0.79512652 -1.50863409 -1.44281235 -0.81750591 -1.08079283]\n",
      " [-1.24534716  1.68371989 -0.09346686  0.56475046  0.56475046]\n",
      " [-0.45548638 -0.62004071  0.40019613 -0.94914937 -1.0149711 ]\n",
      " [ 1.68371989  0.95968085 -0.58712984  0.00526574  1.58498729]\n",
      " [ 0.69639392  0.26855266  1.65080903 -0.42257552 -0.62004071]]\n"
     ]
    }
   ],
   "source": [
    "mat = np.random.randint(1, 100, size = (5, 5))\n",
    "mean = mat.mean()\n",
    "std_dev = mat.std()\n",
    "normalized_mat = (mat - mean) / std_dev\n",
    "print(\"Original random matrix:\")\n",
    "print(mat)\n",
    "print(\"\\nNormalized matrix:\")\n",
    "print(normalized_mat)"
   ]
  },
  {
   "cell_type": "markdown",
   "id": "a7ab1305",
   "metadata": {},
   "source": [
    "# 5. How to find common values between two arrays?"
   ]
  },
  {
   "cell_type": "code",
   "execution_count": 7,
   "id": "9a031994",
   "metadata": {},
   "outputs": [
    {
     "name": "stdout",
     "output_type": "stream",
     "text": [
      "Enter the size of the arrays: 5\n",
      "Enter the 5 elements in to the arr1: 1 5 4 2 7\n",
      "Enter the 5 elements in to the arr2: 5 4 8 9 0\n",
      "Common values between array1 and array2:\n",
      "[4 5]\n"
     ]
    }
   ],
   "source": [
    "n = int(input(\"Enter the size of the arrays: \"))\n",
    "arr1 = []\n",
    "arr2 = []\n",
    "arr1 = [int(ele) for ele in (input(f\"Enter the {n} elements in to the arr1: \").split())]\n",
    "arr2 = [int(ele) for ele in (input(f\"Enter the {n} elements in to the arr2: \").split())]\n",
    "array1 = np.array(arr1)\n",
    "array2 = np.array(arr2)\n",
    "cmn_vals = np.intersect1d(array1, array2)\n",
    "print(\"Common values between array1 and array2:\")\n",
    "print(cmn_vals)"
   ]
  },
  {
   "cell_type": "markdown",
   "id": "942c63d1",
   "metadata": {},
   "source": [
    "# 6. How to get the dates of yesterday, today and tommorow?"
   ]
  },
  {
   "cell_type": "code",
   "execution_count": 8,
   "id": "32afd58e",
   "metadata": {},
   "outputs": [
    {
     "name": "stdout",
     "output_type": "stream",
     "text": [
      "\n",
      "NumPy Datetime Objects:\n",
      "Yesterday\t:  2023-09-20T21:07:57.664504\n",
      "Today\t\t:  2023-09-21T21:07:57.664504\n",
      "Tomorrow\t:  2023-09-22T21:07:57.664504\n"
     ]
    }
   ],
   "source": [
    "from datetime import datetime, timedelta\n",
    "today = datetime.now()\n",
    "yesterday = today - timedelta(days=1)\n",
    "tomorrow = today + timedelta(days=1)\n",
    "today_np = np.datetime64(today)\n",
    "yesterday_np = np.datetime64(yesterday)\n",
    "tomorrow_np = np.datetime64(tomorrow)\n",
    "print(\"\\nNumPy Datetime Objects:\")\n",
    "print(\"Yesterday\\t: \", yesterday_np)\n",
    "print(\"Today\\t\\t: \", today_np)\n",
    "print(\"Tomorrow\\t: \", tomorrow_np)"
   ]
  },
  {
   "cell_type": "markdown",
   "id": "8df4ea15",
   "metadata": {},
   "source": [
    "# 7. Consider two random arrayA and arrqayB, check if they are equal"
   ]
  },
  {
   "cell_type": "code",
   "execution_count": 10,
   "id": "02533f7d",
   "metadata": {},
   "outputs": [
    {
     "name": "stdout",
     "output_type": "stream",
     "text": [
      "Enter the size of the array: 3\n",
      "array1: [ 1  1 16]\n",
      "\n",
      "array2: [1 8 5]\n",
      "\n",
      "Both array are not equal\n"
     ]
    }
   ],
   "source": [
    "n = int(input(\"Enter the size of the array: \"))\n",
    "arr1 =np.random.randint(1, 20, n)\n",
    "arr2 = np.random.randint(1, 20, n)\n",
    "print(f\"array1: {arr1}\\n\")\n",
    "print(f\"array2: {arr2}\\n\")\n",
    "flag = np.array_equal(arr1, arr2)\n",
    "if flag:\n",
    "    print(\"Both the arrays are equal\")\n",
    "else:\n",
    "    print(\"Both array are not equal\")"
   ]
  },
  {
   "cell_type": "markdown",
   "id": "527cccfe",
   "metadata": {},
   "source": [
    "# 8. Crreate random vector of size 10 and replace the maximum value by 0"
   ]
  },
  {
   "cell_type": "code",
   "execution_count": 11,
   "id": "c6358d7c",
   "metadata": {},
   "outputs": [
    {
     "name": "stdout",
     "output_type": "stream",
     "text": [
      "Random vector\t\t: [58 76 19 11 74 49 10 22 59 50]\n",
      "maximum element \t: 76\n",
      "replaced with zero\t: [58  0 19 11 74 49 10 22 59 50]\n"
     ]
    }
   ],
   "source": [
    "random_vec = np.random.randint(1,100, 10)\n",
    "print(f\"Random vector\\t\\t: {random_vec}\")\n",
    "maxi = np.argmax(random_vec)\n",
    "print(f\"maximum element \\t: {random_vec[maxi]}\")\n",
    "random_vec[maxi] = 0\n",
    "print(f\"replaced with zero\\t: {random_vec}\")"
   ]
  },
  {
   "cell_type": "markdown",
   "id": "ad283c8a",
   "metadata": {},
   "source": [
    "# 9. How to print all the values of an array?"
   ]
  },
  {
   "cell_type": "code",
   "execution_count": 12,
   "id": "75bcaaf5",
   "metadata": {},
   "outputs": [
    {
     "name": "stdout",
     "output_type": "stream",
     "text": [
      "34 98 24 38 56 49 50 91 63 25 99 40 33 43 19 "
     ]
    }
   ],
   "source": [
    "arr = np.random.randint(1, 100, 15)\n",
    "for ele in arr:\n",
    "    print(ele, end=\" \")"
   ]
  },
  {
   "cell_type": "markdown",
   "id": "4f16ec62",
   "metadata": {},
   "source": [
    "# 10. Subtract the mean of each row of matrix"
   ]
  },
  {
   "cell_type": "code",
   "execution_count": 13,
   "id": "aeaae226",
   "metadata": {},
   "outputs": [
    {
     "name": "stdout",
     "output_type": "stream",
     "text": [
      "Means:\n",
      " [[24.8]\n",
      " [14. ]\n",
      " [20.8]\n",
      " [21.8]\n",
      " [26.6]]\n",
      "\n",
      "Original Matrix:\n",
      "[[48  7 31  2 36]\n",
      " [ 9  9 29  6 17]\n",
      " [47  1 31 12 13]\n",
      " [ 9 32 31 24 13]\n",
      " [24 49 27 21 12]]\n",
      "\n",
      "\n",
      "Matrix after subtracting row means:\n",
      "[[ 23.2 -17.8   6.2 -22.8  11.2]\n",
      " [ -5.   -5.   15.   -8.    3. ]\n",
      " [ 26.2 -19.8  10.2  -8.8  -7.8]\n",
      " [-12.8  10.2   9.2   2.2  -8.8]\n",
      " [ -2.6  22.4   0.4  -5.6 -14.6]]\n",
      "\n",
      "\n"
     ]
    }
   ],
   "source": [
    "mat = np.random.randint(1, 50, size = (5, 5))\n",
    "row_means = np.mean(mat, axis=1, keepdims=True)\n",
    "matrix_means = mat - row_means\n",
    "print(f\"Means:\\n {row_means}\\n\")\n",
    "print(f\"Original Matrix:\\n{mat}\\n\")\n",
    "print(f\"\\nMatrix after subtracting row means:\\n{matrix_means}\\n\")\n",
    "print()"
   ]
  },
  {
   "cell_type": "markdown",
   "id": "4f8d77d5",
   "metadata": {},
   "source": [
    "# 11. Consider a given vector, how to add 1 to each element indexed by a second vector (be careful with repeated indices)?"
   ]
  },
  {
   "cell_type": "code",
   "execution_count": 15,
   "id": "ffae1c7f",
   "metadata": {},
   "outputs": [
    {
     "name": "stdout",
     "output_type": "stream",
     "text": [
      "Enter the size of the vector: 4\n",
      "Enter 4 elements in to the: 5 7 4 9\n",
      "Ente the indices values where +1 want: 1\n",
      "After +1 for \n",
      "[5, 7, 4, 9]\n",
      "\n",
      "on indices of\n",
      "\n",
      "[1]\n",
      "\n",
      "the result array is \n",
      "[5 8 4 9]\n"
     ]
    }
   ],
   "source": [
    "n = int(input(\"Enter the size of the vector: \"))\n",
    "arr = [int(ele) for ele in(input(f\"Enter {n} elements in to the: \").split())]\n",
    "arr2 = [int(ele) for ele in(input(f\"Ente the indices values where +1 want: \").split())]\n",
    "arr1 = np.array(arr)\n",
    "arr2 = np.array(arr2)\n",
    "index = np.unique(arr2)\n",
    "arr1[arr2] += 1\n",
    "print(f\"After +1 for \\n{arr}\\n\\non indices of\\n\\n{arr2}\\n\\nthe result array is \\n{arr1}\")"
   ]
  },
  {
   "cell_type": "markdown",
   "id": "c81c9641",
   "metadata": {},
   "source": [
    "# 12. How to get the diagonal of a dot product?"
   ]
  },
  {
   "cell_type": "code",
   "execution_count": 16,
   "id": "1d17ee21",
   "metadata": {},
   "outputs": [
    {
     "name": "stdout",
     "output_type": "stream",
     "text": [
      "\n",
      "[[1 2 3]\n",
      " [4 5 6]\n",
      " [7 8 9]]\n",
      "\n",
      "[[10 11 12]\n",
      " [13 14 15]\n",
      " [16 17 18]]\n",
      "\n",
      "\n",
      "Dot Product Matrix:\n",
      "\n",
      "[[ 84  90  96]\n",
      " [201 216 231]\n",
      " [318 342 366]]\n",
      "\n",
      "Diagonal Elements of Dot Product:\n",
      "\n",
      "[ 84 216 366]\n"
     ]
    }
   ],
   "source": [
    "mat1 = np.array([[1, 2, 3],\n",
    "              [4, 5, 6],\n",
    "              [7, 8, 9]])\n",
    "mat2= np.array([[10, 11, 12],\n",
    "              [13, 14, 15],\n",
    "              [16, 17, 18]])\n",
    "mat_dot = np.dot(mat1, mat2)\n",
    "diag_values = np.diag(mat_dot)\n",
    "print(f\"\\n{mat1}\\n\\n{mat2}\\n\\n\")\n",
    "print(f\"Dot Product Matrix:\\n\\n{mat_dot}\")\n",
    "print(f\"\\nDiagonal Elements of Dot Product:\\n\\n{diag_values}\")"
   ]
  },
  {
   "cell_type": "markdown",
   "id": "013c12ae",
   "metadata": {},
   "source": [
    "# 13. How to find the most frequent value in an array?\n",
    "x = np.random.randint(0, 10, 50)"
   ]
  },
  {
   "cell_type": "code",
   "execution_count": 17,
   "id": "d40a2180",
   "metadata": {},
   "outputs": [
    {
     "name": "stdout",
     "output_type": "stream",
     "text": [
      "Array: \n",
      "[7 1 9 7 3 4 3 1 3 9 4 1 5 9 5 5 3 2 9 5 0 9 7 9 9 6 7 2 5 6 4 3 7 8 5 1 5\n",
      " 7 4 1 5 1 1 0 8 6 1 9 1 3]\n",
      "\n",
      "\n",
      "Most frequent element in the array is:\n",
      "1 \n"
     ]
    }
   ],
   "source": [
    "x = np.random.randint(0, 10, 50)\n",
    "cnt = np.bincount(x)\n",
    "maxi = np.argmax(cnt)\n",
    "print(f\"Array: \\n{x}\\n\\n\")\n",
    "print(f\"Most frequent element in the array is:\\n{maxi} \")"
   ]
  },
  {
   "cell_type": "markdown",
   "id": "ff84e072",
   "metadata": {},
   "source": [
    "# 14. how to get the n largest values of an array"
   ]
  },
  {
   "cell_type": "code",
   "execution_count": 18,
   "id": "069e7479",
   "metadata": {},
   "outputs": [
    {
     "name": "stdout",
     "output_type": "stream",
     "text": [
      "Enter the number of largest elements needed: 4\n",
      "The array is \t\t: [39 76 21  1 45 10 16 20 35 56 75 95 90 63  2]\n",
      "largest 4 elements are\t: [75 76 90 95]\n"
     ]
    }
   ],
   "source": [
    "n = int(input(\"Enter the number of largest elements needed: \"))\n",
    "arr = np.random.randint(1, 100, 15)\n",
    "values = np.partition(arr, -n)[-n:]\n",
    "print(f\"The array is \\t\\t: {arr}\")\n",
    "print(f\"largest {n} elements are\\t: {values}\")"
   ]
  },
  {
   "cell_type": "markdown",
   "id": "ed5b4e84",
   "metadata": {},
   "source": [
    "# 15. how to create a record array from a regular array?"
   ]
  },
  {
   "cell_type": "code",
   "execution_count": 21,
   "id": "e094e927",
   "metadata": {},
   "outputs": [
    {
     "name": "stdout",
     "output_type": "stream",
     "text": [
      "Structured Array:\n",
      "[(1, 'Hema', 20) (2, 'Latha', 30) (3, 'sandhya', 60)]\n",
      "\n",
      "Elements by Field Name:\n",
      "ID\t: [1 2 3]\n",
      "Name\t: ['Hema' 'Latha' 'sandhya']\n",
      "Age\t: [20 30 60]\n"
     ]
    }
   ],
   "source": [
    "regular = [(1, \"Hema\", 20),\n",
    "           (2, \"Latha\", 30),\n",
    "           (3, \"sandhya\", 60)]\n",
    "datatype = [(\"ID\", int), (\"Name\", 'U10'), (\"Age\", int)]\n",
    "structured_array = np.array(regular, dtype=datatype)\n",
    "print(\"Structured Array:\")\n",
    "print(structured_array)\n",
    "print(\"\\nElements by Field Name:\")\n",
    "print(\"ID\\t:\", structured_array['ID'])\n",
    "print(\"Name\\t:\", structured_array['Name'])\n",
    "print(\"Age\\t:\", structured_array['Age'])"
   ]
  },
  {
   "cell_type": "markdown",
   "id": "0fbd3f20",
   "metadata": {},
   "source": [
    "# 16. How to swap two rows of an array?"
   ]
  },
  {
   "cell_type": "code",
   "execution_count": 23,
   "id": "46c5a613",
   "metadata": {},
   "outputs": [
    {
     "name": "stdout",
     "output_type": "stream",
     "text": [
      "Before Swapping:\n",
      "\n",
      "[[ 3  4  5  6]\n",
      " [22 23 24 25]\n",
      " [31 32 33 34]\n",
      " [41 42 43 44]]\n",
      "\n",
      "After Swapping:\n",
      "\n",
      "[[31 32 33 34]\n",
      " [22 23 24 25]\n",
      " [ 3  4  5  6]\n",
      " [41 42 43 44]]\n"
     ]
    }
   ],
   "source": [
    "arr = np.array([[3, 4, 5, 6],\n",
    "                [22, 23, 24, 25],\n",
    "                [31, 32, 33 ,34],\n",
    "                [41, 42, 43, 44]])\n",
    "print(f\"Before Swapping:\\n\\n{arr}\")\n",
    "temp = arr[0].copy()\n",
    "arr[0] = arr[2]\n",
    "arr[2] = temp\n",
    "print(f\"\\nAfter Swapping:\\n\\n{arr}\")"
   ]
  },
  {
   "cell_type": "markdown",
   "id": "3b1d28c0",
   "metadata": {},
   "source": [
    "# 17. Write python code to reshape to the next dimension of numpy array?\n",
    "x = np.array([[23, 34, 121], [23, 22, 67], [686, 434, 123]])"
   ]
  },
  {
   "cell_type": "code",
   "execution_count": 24,
   "id": "79408fb6",
   "metadata": {},
   "outputs": [
    {
     "name": "stdout",
     "output_type": "stream",
     "text": [
      "Before Re-shaping:\n",
      "\n",
      "[[ 23  34 121]\n",
      " [ 23  22  67]\n",
      " [686 434 123]]\n",
      "\n",
      "[[[ 23]\n",
      "  [ 34]\n",
      "  [121]]\n",
      "\n",
      " [[ 23]\n",
      "  [ 22]\n",
      "  [ 67]]\n",
      "\n",
      " [[686]\n",
      "  [434]\n",
      "  [123]]]\n"
     ]
    }
   ],
   "source": [
    "x = np.array([[23, 34, 121], \n",
    "              [23, 22, 67], \n",
    "              [686, 434, 123]])\n",
    "\n",
    "print(f\"Before Re-shaping:\\n\\n{x}\\n\")\n",
    "x = x.reshape(x.shape[0], x.shape[1], 1)\n",
    "print(x)"
   ]
  }
 ],
 "metadata": {
  "kernelspec": {
   "display_name": "Python 3 (ipykernel)",
   "language": "python",
   "name": "python3"
  },
  "language_info": {
   "codemirror_mode": {
    "name": "ipython",
    "version": 3
   },
   "file_extension": ".py",
   "mimetype": "text/x-python",
   "name": "python",
   "nbconvert_exporter": "python",
   "pygments_lexer": "ipython3",
   "version": "3.11.4"
  }
 },
 "nbformat": 4,
 "nbformat_minor": 5
}
